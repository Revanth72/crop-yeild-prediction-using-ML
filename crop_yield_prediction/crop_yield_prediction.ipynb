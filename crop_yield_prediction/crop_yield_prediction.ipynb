{
  "cells": [
    {
      "cell_type": "markdown",
      "source": [
        "#**Importing libraries**\n"
      ],
      "metadata": {
        "id": "ootYQ94K_Flz"
      }
    },
    {
      "cell_type": "code",
      "execution_count": 6,
      "metadata": {
        "id": "2csC1yHDQjp0"
      },
      "outputs": [],
      "source": [
        "import pandas as pd\n"
      ]
    },
    {
      "cell_type": "markdown",
      "source": [
        "#**Importing Dataset**"
      ],
      "metadata": {
        "id": "l8-8-4Oy-ux5"
      }
    },
    {
      "cell_type": "code",
      "execution_count": 7,
      "metadata": {
        "id": "40XgzUojQzcC"
      },
      "outputs": [],
      "source": [
        "data = pd.read_csv('Revanth_data.csv')"
      ]
    },
    {
      "cell_type": "code",
      "execution_count": 8,
      "metadata": {
        "colab": {
          "base_uri": "https://localhost:8080/",
          "height": 696
        },
        "id": "NSLDZmUtQ8xK",
        "outputId": "dd35ba13-e099-44a0-e24d-43bac6047bca"
      },
      "outputs": [
        {
          "output_type": "execute_result",
          "data": {
            "text/plain": [
              "                           State  Year     Season               Crop     Area  \\\n",
              "0    0  AndamanandNicobarIslands  2000     Kharif           Arecanut   1254.0   \n",
              "1    1  AndamanandNicobarIslands  2000     Kharif  OtherKharifpulses      2.0   \n",
              "2    2  AndamanandNicobarIslands  2000     Kharif               Rice    102.0   \n",
              "3    3  AndamanandNicobarIslands  2000  WholeYear             Banana    176.0   \n",
              "4    4  AndamanandNicobarIslands  2000  WholeYear          Cashewnut    720.0   \n",
              "5    5  AndamanandNicobarIslands  2000  WholeYear            Coconut  18168.0   \n",
              "6    6  AndamanandNicobarIslands  2000  WholeYear          Dryginger     36.0   \n",
              "7    7  AndamanandNicobarIslands  2000  WholeYear          Sugarcane      1.0   \n",
              "8    8  AndamanandNicobarIslands  2000  WholeYear        Sweetpotato      5.0   \n",
              "9    9  AndamanandNicobarIslands  2000  WholeYear            Tapioca     40.0   \n",
              "10  10  AndamanandNicobarIslands  2001     Kharif           Arecanut   1254.0   \n",
              "11  11  AndamanandNicobarIslands  2001     Kharif  OtherKharifpulses      2.0   \n",
              "12  12  AndamanandNicobarIslands  2001     Kharif               Rice     83.0   \n",
              "13  13  AndamanandNicobarIslands  2001  WholeYear          Cashewnut    719.0   \n",
              "14  14  AndamanandNicobarIslands  2001  WholeYear            Coconut  18190.0   \n",
              "15  15  AndamanandNicobarIslands  2001  WholeYear          Dryginger     46.0   \n",
              "16  16  AndamanandNicobarIslands  2001  WholeYear          Sugarcane      1.0   \n",
              "17  17  AndamanandNicobarIslands  2001  WholeYear        Sweetpotato     11.0   \n",
              "18  18  AndamanandNicobarIslands  2002     Kharif               Rice    189.2   \n",
              "19  19  AndamanandNicobarIslands  2002  WholeYear           Arecanut   1258.0   \n",
              "\n",
              "     Production  Rainfall  \n",
              "0       2000.00    2763.2  \n",
              "1          1.00    2763.2  \n",
              "2        321.00    2763.2  \n",
              "3        641.00    2763.2  \n",
              "4        165.00    2763.2  \n",
              "5   65100000.00    2763.2  \n",
              "6        100.00    2763.2  \n",
              "7          2.00    2763.2  \n",
              "8         15.00    2763.2  \n",
              "9        169.00    2763.2  \n",
              "10      2061.00    3080.9  \n",
              "11         1.00    3080.9  \n",
              "12       300.00    3080.9  \n",
              "13       192.00    3080.9  \n",
              "14  64430000.00    3080.9  \n",
              "15       100.00    3080.9  \n",
              "16         1.00    3080.9  \n",
              "17        33.00    3080.9  \n",
              "18       510.84    2620.2  \n",
              "19      2083.00    2620.2  "
            ],
            "text/html": [
              "\n",
              "  <div id=\"df-b05c60ac-83d9-46da-bf48-0ccd46054e15\" class=\"colab-df-container\">\n",
              "    <div>\n",
              "<style scoped>\n",
              "    .dataframe tbody tr th:only-of-type {\n",
              "        vertical-align: middle;\n",
              "    }\n",
              "\n",
              "    .dataframe tbody tr th {\n",
              "        vertical-align: top;\n",
              "    }\n",
              "\n",
              "    .dataframe thead th {\n",
              "        text-align: right;\n",
              "    }\n",
              "</style>\n",
              "<table border=\"1\" class=\"dataframe\">\n",
              "  <thead>\n",
              "    <tr style=\"text-align: right;\">\n",
              "      <th></th>\n",
              "      <th></th>\n",
              "      <th>State</th>\n",
              "      <th>Year</th>\n",
              "      <th>Season</th>\n",
              "      <th>Crop</th>\n",
              "      <th>Area</th>\n",
              "      <th>Production</th>\n",
              "      <th>Rainfall</th>\n",
              "    </tr>\n",
              "  </thead>\n",
              "  <tbody>\n",
              "    <tr>\n",
              "      <th>0</th>\n",
              "      <td>0</td>\n",
              "      <td>AndamanandNicobarIslands</td>\n",
              "      <td>2000</td>\n",
              "      <td>Kharif</td>\n",
              "      <td>Arecanut</td>\n",
              "      <td>1254.0</td>\n",
              "      <td>2000.00</td>\n",
              "      <td>2763.2</td>\n",
              "    </tr>\n",
              "    <tr>\n",
              "      <th>1</th>\n",
              "      <td>1</td>\n",
              "      <td>AndamanandNicobarIslands</td>\n",
              "      <td>2000</td>\n",
              "      <td>Kharif</td>\n",
              "      <td>OtherKharifpulses</td>\n",
              "      <td>2.0</td>\n",
              "      <td>1.00</td>\n",
              "      <td>2763.2</td>\n",
              "    </tr>\n",
              "    <tr>\n",
              "      <th>2</th>\n",
              "      <td>2</td>\n",
              "      <td>AndamanandNicobarIslands</td>\n",
              "      <td>2000</td>\n",
              "      <td>Kharif</td>\n",
              "      <td>Rice</td>\n",
              "      <td>102.0</td>\n",
              "      <td>321.00</td>\n",
              "      <td>2763.2</td>\n",
              "    </tr>\n",
              "    <tr>\n",
              "      <th>3</th>\n",
              "      <td>3</td>\n",
              "      <td>AndamanandNicobarIslands</td>\n",
              "      <td>2000</td>\n",
              "      <td>WholeYear</td>\n",
              "      <td>Banana</td>\n",
              "      <td>176.0</td>\n",
              "      <td>641.00</td>\n",
              "      <td>2763.2</td>\n",
              "    </tr>\n",
              "    <tr>\n",
              "      <th>4</th>\n",
              "      <td>4</td>\n",
              "      <td>AndamanandNicobarIslands</td>\n",
              "      <td>2000</td>\n",
              "      <td>WholeYear</td>\n",
              "      <td>Cashewnut</td>\n",
              "      <td>720.0</td>\n",
              "      <td>165.00</td>\n",
              "      <td>2763.2</td>\n",
              "    </tr>\n",
              "    <tr>\n",
              "      <th>5</th>\n",
              "      <td>5</td>\n",
              "      <td>AndamanandNicobarIslands</td>\n",
              "      <td>2000</td>\n",
              "      <td>WholeYear</td>\n",
              "      <td>Coconut</td>\n",
              "      <td>18168.0</td>\n",
              "      <td>65100000.00</td>\n",
              "      <td>2763.2</td>\n",
              "    </tr>\n",
              "    <tr>\n",
              "      <th>6</th>\n",
              "      <td>6</td>\n",
              "      <td>AndamanandNicobarIslands</td>\n",
              "      <td>2000</td>\n",
              "      <td>WholeYear</td>\n",
              "      <td>Dryginger</td>\n",
              "      <td>36.0</td>\n",
              "      <td>100.00</td>\n",
              "      <td>2763.2</td>\n",
              "    </tr>\n",
              "    <tr>\n",
              "      <th>7</th>\n",
              "      <td>7</td>\n",
              "      <td>AndamanandNicobarIslands</td>\n",
              "      <td>2000</td>\n",
              "      <td>WholeYear</td>\n",
              "      <td>Sugarcane</td>\n",
              "      <td>1.0</td>\n",
              "      <td>2.00</td>\n",
              "      <td>2763.2</td>\n",
              "    </tr>\n",
              "    <tr>\n",
              "      <th>8</th>\n",
              "      <td>8</td>\n",
              "      <td>AndamanandNicobarIslands</td>\n",
              "      <td>2000</td>\n",
              "      <td>WholeYear</td>\n",
              "      <td>Sweetpotato</td>\n",
              "      <td>5.0</td>\n",
              "      <td>15.00</td>\n",
              "      <td>2763.2</td>\n",
              "    </tr>\n",
              "    <tr>\n",
              "      <th>9</th>\n",
              "      <td>9</td>\n",
              "      <td>AndamanandNicobarIslands</td>\n",
              "      <td>2000</td>\n",
              "      <td>WholeYear</td>\n",
              "      <td>Tapioca</td>\n",
              "      <td>40.0</td>\n",
              "      <td>169.00</td>\n",
              "      <td>2763.2</td>\n",
              "    </tr>\n",
              "    <tr>\n",
              "      <th>10</th>\n",
              "      <td>10</td>\n",
              "      <td>AndamanandNicobarIslands</td>\n",
              "      <td>2001</td>\n",
              "      <td>Kharif</td>\n",
              "      <td>Arecanut</td>\n",
              "      <td>1254.0</td>\n",
              "      <td>2061.00</td>\n",
              "      <td>3080.9</td>\n",
              "    </tr>\n",
              "    <tr>\n",
              "      <th>11</th>\n",
              "      <td>11</td>\n",
              "      <td>AndamanandNicobarIslands</td>\n",
              "      <td>2001</td>\n",
              "      <td>Kharif</td>\n",
              "      <td>OtherKharifpulses</td>\n",
              "      <td>2.0</td>\n",
              "      <td>1.00</td>\n",
              "      <td>3080.9</td>\n",
              "    </tr>\n",
              "    <tr>\n",
              "      <th>12</th>\n",
              "      <td>12</td>\n",
              "      <td>AndamanandNicobarIslands</td>\n",
              "      <td>2001</td>\n",
              "      <td>Kharif</td>\n",
              "      <td>Rice</td>\n",
              "      <td>83.0</td>\n",
              "      <td>300.00</td>\n",
              "      <td>3080.9</td>\n",
              "    </tr>\n",
              "    <tr>\n",
              "      <th>13</th>\n",
              "      <td>13</td>\n",
              "      <td>AndamanandNicobarIslands</td>\n",
              "      <td>2001</td>\n",
              "      <td>WholeYear</td>\n",
              "      <td>Cashewnut</td>\n",
              "      <td>719.0</td>\n",
              "      <td>192.00</td>\n",
              "      <td>3080.9</td>\n",
              "    </tr>\n",
              "    <tr>\n",
              "      <th>14</th>\n",
              "      <td>14</td>\n",
              "      <td>AndamanandNicobarIslands</td>\n",
              "      <td>2001</td>\n",
              "      <td>WholeYear</td>\n",
              "      <td>Coconut</td>\n",
              "      <td>18190.0</td>\n",
              "      <td>64430000.00</td>\n",
              "      <td>3080.9</td>\n",
              "    </tr>\n",
              "    <tr>\n",
              "      <th>15</th>\n",
              "      <td>15</td>\n",
              "      <td>AndamanandNicobarIslands</td>\n",
              "      <td>2001</td>\n",
              "      <td>WholeYear</td>\n",
              "      <td>Dryginger</td>\n",
              "      <td>46.0</td>\n",
              "      <td>100.00</td>\n",
              "      <td>3080.9</td>\n",
              "    </tr>\n",
              "    <tr>\n",
              "      <th>16</th>\n",
              "      <td>16</td>\n",
              "      <td>AndamanandNicobarIslands</td>\n",
              "      <td>2001</td>\n",
              "      <td>WholeYear</td>\n",
              "      <td>Sugarcane</td>\n",
              "      <td>1.0</td>\n",
              "      <td>1.00</td>\n",
              "      <td>3080.9</td>\n",
              "    </tr>\n",
              "    <tr>\n",
              "      <th>17</th>\n",
              "      <td>17</td>\n",
              "      <td>AndamanandNicobarIslands</td>\n",
              "      <td>2001</td>\n",
              "      <td>WholeYear</td>\n",
              "      <td>Sweetpotato</td>\n",
              "      <td>11.0</td>\n",
              "      <td>33.00</td>\n",
              "      <td>3080.9</td>\n",
              "    </tr>\n",
              "    <tr>\n",
              "      <th>18</th>\n",
              "      <td>18</td>\n",
              "      <td>AndamanandNicobarIslands</td>\n",
              "      <td>2002</td>\n",
              "      <td>Kharif</td>\n",
              "      <td>Rice</td>\n",
              "      <td>189.2</td>\n",
              "      <td>510.84</td>\n",
              "      <td>2620.2</td>\n",
              "    </tr>\n",
              "    <tr>\n",
              "      <th>19</th>\n",
              "      <td>19</td>\n",
              "      <td>AndamanandNicobarIslands</td>\n",
              "      <td>2002</td>\n",
              "      <td>WholeYear</td>\n",
              "      <td>Arecanut</td>\n",
              "      <td>1258.0</td>\n",
              "      <td>2083.00</td>\n",
              "      <td>2620.2</td>\n",
              "    </tr>\n",
              "  </tbody>\n",
              "</table>\n",
              "</div>\n",
              "    <div class=\"colab-df-buttons\">\n",
              "\n",
              "  <div class=\"colab-df-container\">\n",
              "    <button class=\"colab-df-convert\" onclick=\"convertToInteractive('df-b05c60ac-83d9-46da-bf48-0ccd46054e15')\"\n",
              "            title=\"Convert this dataframe to an interactive table.\"\n",
              "            style=\"display:none;\">\n",
              "\n",
              "  <svg xmlns=\"http://www.w3.org/2000/svg\" height=\"24px\" viewBox=\"0 -960 960 960\">\n",
              "    <path d=\"M120-120v-720h720v720H120Zm60-500h600v-160H180v160Zm220 220h160v-160H400v160Zm0 220h160v-160H400v160ZM180-400h160v-160H180v160Zm440 0h160v-160H620v160ZM180-180h160v-160H180v160Zm440 0h160v-160H620v160Z\"/>\n",
              "  </svg>\n",
              "    </button>\n",
              "\n",
              "  <style>\n",
              "    .colab-df-container {\n",
              "      display:flex;\n",
              "      gap: 12px;\n",
              "    }\n",
              "\n",
              "    .colab-df-convert {\n",
              "      background-color: #E8F0FE;\n",
              "      border: none;\n",
              "      border-radius: 50%;\n",
              "      cursor: pointer;\n",
              "      display: none;\n",
              "      fill: #1967D2;\n",
              "      height: 32px;\n",
              "      padding: 0 0 0 0;\n",
              "      width: 32px;\n",
              "    }\n",
              "\n",
              "    .colab-df-convert:hover {\n",
              "      background-color: #E2EBFA;\n",
              "      box-shadow: 0px 1px 2px rgba(60, 64, 67, 0.3), 0px 1px 3px 1px rgba(60, 64, 67, 0.15);\n",
              "      fill: #174EA6;\n",
              "    }\n",
              "\n",
              "    .colab-df-buttons div {\n",
              "      margin-bottom: 4px;\n",
              "    }\n",
              "\n",
              "    [theme=dark] .colab-df-convert {\n",
              "      background-color: #3B4455;\n",
              "      fill: #D2E3FC;\n",
              "    }\n",
              "\n",
              "    [theme=dark] .colab-df-convert:hover {\n",
              "      background-color: #434B5C;\n",
              "      box-shadow: 0px 1px 3px 1px rgba(0, 0, 0, 0.15);\n",
              "      filter: drop-shadow(0px 1px 2px rgba(0, 0, 0, 0.3));\n",
              "      fill: #FFFFFF;\n",
              "    }\n",
              "  </style>\n",
              "\n",
              "    <script>\n",
              "      const buttonEl =\n",
              "        document.querySelector('#df-b05c60ac-83d9-46da-bf48-0ccd46054e15 button.colab-df-convert');\n",
              "      buttonEl.style.display =\n",
              "        google.colab.kernel.accessAllowed ? 'block' : 'none';\n",
              "\n",
              "      async function convertToInteractive(key) {\n",
              "        const element = document.querySelector('#df-b05c60ac-83d9-46da-bf48-0ccd46054e15');\n",
              "        const dataTable =\n",
              "          await google.colab.kernel.invokeFunction('convertToInteractive',\n",
              "                                                    [key], {});\n",
              "        if (!dataTable) return;\n",
              "\n",
              "        const docLinkHtml = 'Like what you see? Visit the ' +\n",
              "          '<a target=\"_blank\" href=https://colab.research.google.com/notebooks/data_table.ipynb>data table notebook</a>'\n",
              "          + ' to learn more about interactive tables.';\n",
              "        element.innerHTML = '';\n",
              "        dataTable['output_type'] = 'display_data';\n",
              "        await google.colab.output.renderOutput(dataTable, element);\n",
              "        const docLink = document.createElement('div');\n",
              "        docLink.innerHTML = docLinkHtml;\n",
              "        element.appendChild(docLink);\n",
              "      }\n",
              "    </script>\n",
              "  </div>\n",
              "\n",
              "\n",
              "<div id=\"df-1147661f-cb93-4a61-a746-b2029a4e1e73\">\n",
              "  <button class=\"colab-df-quickchart\" onclick=\"quickchart('df-1147661f-cb93-4a61-a746-b2029a4e1e73')\"\n",
              "            title=\"Suggest charts\"\n",
              "            style=\"display:none;\">\n",
              "\n",
              "<svg xmlns=\"http://www.w3.org/2000/svg\" height=\"24px\"viewBox=\"0 0 24 24\"\n",
              "     width=\"24px\">\n",
              "    <g>\n",
              "        <path d=\"M19 3H5c-1.1 0-2 .9-2 2v14c0 1.1.9 2 2 2h14c1.1 0 2-.9 2-2V5c0-1.1-.9-2-2-2zM9 17H7v-7h2v7zm4 0h-2V7h2v10zm4 0h-2v-4h2v4z\"/>\n",
              "    </g>\n",
              "</svg>\n",
              "  </button>\n",
              "\n",
              "<style>\n",
              "  .colab-df-quickchart {\n",
              "      --bg-color: #E8F0FE;\n",
              "      --fill-color: #1967D2;\n",
              "      --hover-bg-color: #E2EBFA;\n",
              "      --hover-fill-color: #174EA6;\n",
              "      --disabled-fill-color: #AAA;\n",
              "      --disabled-bg-color: #DDD;\n",
              "  }\n",
              "\n",
              "  [theme=dark] .colab-df-quickchart {\n",
              "      --bg-color: #3B4455;\n",
              "      --fill-color: #D2E3FC;\n",
              "      --hover-bg-color: #434B5C;\n",
              "      --hover-fill-color: #FFFFFF;\n",
              "      --disabled-bg-color: #3B4455;\n",
              "      --disabled-fill-color: #666;\n",
              "  }\n",
              "\n",
              "  .colab-df-quickchart {\n",
              "    background-color: var(--bg-color);\n",
              "    border: none;\n",
              "    border-radius: 50%;\n",
              "    cursor: pointer;\n",
              "    display: none;\n",
              "    fill: var(--fill-color);\n",
              "    height: 32px;\n",
              "    padding: 0;\n",
              "    width: 32px;\n",
              "  }\n",
              "\n",
              "  .colab-df-quickchart:hover {\n",
              "    background-color: var(--hover-bg-color);\n",
              "    box-shadow: 0 1px 2px rgba(60, 64, 67, 0.3), 0 1px 3px 1px rgba(60, 64, 67, 0.15);\n",
              "    fill: var(--button-hover-fill-color);\n",
              "  }\n",
              "\n",
              "  .colab-df-quickchart-complete:disabled,\n",
              "  .colab-df-quickchart-complete:disabled:hover {\n",
              "    background-color: var(--disabled-bg-color);\n",
              "    fill: var(--disabled-fill-color);\n",
              "    box-shadow: none;\n",
              "  }\n",
              "\n",
              "  .colab-df-spinner {\n",
              "    border: 2px solid var(--fill-color);\n",
              "    border-color: transparent;\n",
              "    border-bottom-color: var(--fill-color);\n",
              "    animation:\n",
              "      spin 1s steps(1) infinite;\n",
              "  }\n",
              "\n",
              "  @keyframes spin {\n",
              "    0% {\n",
              "      border-color: transparent;\n",
              "      border-bottom-color: var(--fill-color);\n",
              "      border-left-color: var(--fill-color);\n",
              "    }\n",
              "    20% {\n",
              "      border-color: transparent;\n",
              "      border-left-color: var(--fill-color);\n",
              "      border-top-color: var(--fill-color);\n",
              "    }\n",
              "    30% {\n",
              "      border-color: transparent;\n",
              "      border-left-color: var(--fill-color);\n",
              "      border-top-color: var(--fill-color);\n",
              "      border-right-color: var(--fill-color);\n",
              "    }\n",
              "    40% {\n",
              "      border-color: transparent;\n",
              "      border-right-color: var(--fill-color);\n",
              "      border-top-color: var(--fill-color);\n",
              "    }\n",
              "    60% {\n",
              "      border-color: transparent;\n",
              "      border-right-color: var(--fill-color);\n",
              "    }\n",
              "    80% {\n",
              "      border-color: transparent;\n",
              "      border-right-color: var(--fill-color);\n",
              "      border-bottom-color: var(--fill-color);\n",
              "    }\n",
              "    90% {\n",
              "      border-color: transparent;\n",
              "      border-bottom-color: var(--fill-color);\n",
              "    }\n",
              "  }\n",
              "</style>\n",
              "\n",
              "  <script>\n",
              "    async function quickchart(key) {\n",
              "      const quickchartButtonEl =\n",
              "        document.querySelector('#' + key + ' button');\n",
              "      quickchartButtonEl.disabled = true;  // To prevent multiple clicks.\n",
              "      quickchartButtonEl.classList.add('colab-df-spinner');\n",
              "      try {\n",
              "        const charts = await google.colab.kernel.invokeFunction(\n",
              "            'suggestCharts', [key], {});\n",
              "      } catch (error) {\n",
              "        console.error('Error during call to suggestCharts:', error);\n",
              "      }\n",
              "      quickchartButtonEl.classList.remove('colab-df-spinner');\n",
              "      quickchartButtonEl.classList.add('colab-df-quickchart-complete');\n",
              "    }\n",
              "    (() => {\n",
              "      let quickchartButtonEl =\n",
              "        document.querySelector('#df-1147661f-cb93-4a61-a746-b2029a4e1e73 button');\n",
              "      quickchartButtonEl.style.display =\n",
              "        google.colab.kernel.accessAllowed ? 'block' : 'none';\n",
              "    })();\n",
              "  </script>\n",
              "</div>\n",
              "    </div>\n",
              "  </div>\n"
            ]
          },
          "metadata": {},
          "execution_count": 8
        }
      ],
      "source": [
        "data.head(20)"
      ]
    },
    {
      "cell_type": "code",
      "execution_count": 9,
      "metadata": {
        "colab": {
          "base_uri": "https://localhost:8080/"
        },
        "id": "oz-zT9XSRIPz",
        "outputId": "e6ce5eb2-a018-4b7a-8ab6-0e2cd9e5605a"
      },
      "outputs": [
        {
          "output_type": "stream",
          "name": "stdout",
          "text": [
            "                                  State  Year     Season               Crop  \\\n",
            "0           0  AndamanandNicobarIslands  2000     Kharif           Arecanut   \n",
            "1           1  AndamanandNicobarIslands  2000     Kharif  OtherKharifpulses   \n",
            "2           2  AndamanandNicobarIslands  2000     Kharif               Rice   \n",
            "3           3  AndamanandNicobarIslands  2000  WholeYear             Banana   \n",
            "4           4  AndamanandNicobarIslands  2000  WholeYear          Cashewnut   \n",
            "...       ...                       ...   ...        ...                ...   \n",
            "74970  236473               Uttarakhand  2014  WholeYear              Onion   \n",
            "74971  236474               Uttarakhand  2014  WholeYear        Pulsestotal   \n",
            "74972  236475               Uttarakhand  2014  WholeYear               Rice   \n",
            "74973  236476               Uttarakhand  2014  WholeYear          Sunflower   \n",
            "74974  236477               Uttarakhand  2014  WholeYear     Totalfoodgrain   \n",
            "\n",
            "          Area  Production  Rainfall  \n",
            "0       1254.0      2000.0    2763.2  \n",
            "1          2.0         1.0    2763.2  \n",
            "2        102.0       321.0    2763.2  \n",
            "3        176.0       641.0    2763.2  \n",
            "4        720.0       165.0    2763.2  \n",
            "...        ...         ...       ...  \n",
            "74970     26.0       172.0    1287.4  \n",
            "74971   5346.0      4630.0    1287.4  \n",
            "74972   9919.0     16499.0    1287.4  \n",
            "74973      3.0         3.0    1287.4  \n",
            "74974  35417.0     49689.0    1287.4  \n",
            "\n",
            "[74975 rows x 8 columns]\n"
          ]
        }
      ],
      "source": [
        "print(data)"
      ]
    },
    {
      "cell_type": "code",
      "execution_count": 10,
      "metadata": {
        "colab": {
          "base_uri": "https://localhost:8080/"
        },
        "id": "HPBOf9bRRL89",
        "outputId": "0501234f-5786-4469-b4b6-7b32579e240f"
      },
      "outputs": [
        {
          "output_type": "stream",
          "name": "stdout",
          "text": [
            "<class 'pandas.core.frame.DataFrame'>\n",
            "RangeIndex: 74975 entries, 0 to 74974\n",
            "Data columns (total 8 columns):\n",
            " #   Column      Non-Null Count  Dtype  \n",
            "---  ------      --------------  -----  \n",
            " 0               74975 non-null  int64  \n",
            " 1   State       74975 non-null  object \n",
            " 2   Year        74975 non-null  int64  \n",
            " 3   Season      74975 non-null  object \n",
            " 4   Crop        74975 non-null  object \n",
            " 5   Area        74975 non-null  float64\n",
            " 6   Production  74975 non-null  float64\n",
            " 7   Rainfall    74975 non-null  float64\n",
            "dtypes: float64(3), int64(2), object(3)\n",
            "memory usage: 4.6+ MB\n"
          ]
        }
      ],
      "source": [
        "data.info()"
      ]
    },
    {
      "cell_type": "markdown",
      "source": [
        "#**Data Preprocessing**\n"
      ],
      "metadata": {
        "id": "BnLRDO0R-21k"
      }
    },
    {
      "cell_type": "markdown",
      "source": [
        "#Dealing with Null values\n"
      ],
      "metadata": {
        "id": "Aw2rWYW2_b_8"
      }
    },
    {
      "cell_type": "code",
      "execution_count": 11,
      "metadata": {
        "colab": {
          "base_uri": "https://localhost:8080/"
        },
        "id": "zUEPFgjlRUnn",
        "outputId": "4484f0f8-4ba3-4da7-ab03-2ccdfce9b025"
      },
      "outputs": [
        {
          "output_type": "execute_result",
          "data": {
            "text/plain": [
              "              0\n",
              "State         0\n",
              "Year          0\n",
              "Season        0\n",
              "Crop          0\n",
              "Area          0\n",
              "Production    0\n",
              "Rainfall      0\n",
              "dtype: int64"
            ]
          },
          "metadata": {},
          "execution_count": 11
        }
      ],
      "source": [
        "data.isnull().sum()"
      ]
    },
    {
      "cell_type": "code",
      "execution_count": 12,
      "metadata": {
        "id": "orKR3yo6R1ix"
      },
      "outputs": [],
      "source": [
        "data.fillna(data['Production'].median(),inplace=True)"
      ]
    },
    {
      "cell_type": "code",
      "execution_count": 13,
      "metadata": {
        "colab": {
          "base_uri": "https://localhost:8080/"
        },
        "id": "_dgs2RMRR8cZ",
        "outputId": "09110d74-ad31-46a1-d2d8-8fb09346481c"
      },
      "outputs": [
        {
          "output_type": "execute_result",
          "data": {
            "text/plain": [
              "              0\n",
              "State         0\n",
              "Year          0\n",
              "Season        0\n",
              "Crop          0\n",
              "Area          0\n",
              "Production    0\n",
              "Rainfall      0\n",
              "dtype: int64"
            ]
          },
          "metadata": {},
          "execution_count": 13
        }
      ],
      "source": [
        "data.isnull().sum()"
      ]
    },
    {
      "cell_type": "markdown",
      "source": [
        "#Encoding the Dataset"
      ],
      "metadata": {
        "id": "jPAeHRsz_hYs"
      }
    },
    {
      "cell_type": "code",
      "execution_count": 14,
      "metadata": {
        "id": "-GFPeka1SH0K"
      },
      "outputs": [],
      "source": [
        "from sklearn.preprocessing import LabelEncoder\n",
        "le = LabelEncoder()\n",
        "State = le.fit_transform(data.State)\n",
        "crop = le.fit_transform(data.Crop)\n",
        "Season = le.fit_transform(data.Season)\n",
        "data['State'] = State\n",
        "data['Crop'] = crop\n",
        "data['Season']  = Season"
      ]
    },
    {
      "cell_type": "code",
      "execution_count": 15,
      "metadata": {
        "id": "lGl-KESxSbMA",
        "colab": {
          "base_uri": "https://localhost:8080/",
          "height": 423
        },
        "outputId": "e7e5e762-bdde-423b-b02c-8167370d2cee"
      },
      "outputs": [
        {
          "output_type": "execute_result",
          "data": {
            "text/plain": [
              "          State  Year  Season  Crop     Area  Production  Rainfall\n",
              "0      0      0  2000       1     0  1254.00     2000.00    2763.2\n",
              "1      1      0  2000       1    50     2.00        1.00    2763.2\n",
              "2      2      0  2000       1    63   102.00      321.00    2763.2\n",
              "3      3      0  2000       4     3   176.00      641.00    2763.2\n",
              "4      4      0  2000       4    13   720.00      165.00    2763.2\n",
              "..   ...    ...   ...     ...   ...      ...         ...       ...\n",
              "115  117      0  2010       2    23   254.00      402.00    3157.1\n",
              "116  118      0  2010       2    24   110.00     1011.84    3157.1\n",
              "117  119      0  2010       2    29     4.75        6.80    3157.1\n",
              "118  120      0  2010       2    39    86.70       96.40    3157.1\n",
              "119  121      0  2010       2    43  1168.60      556.55    3157.1\n",
              "\n",
              "[120 rows x 8 columns]"
            ],
            "text/html": [
              "\n",
              "  <div id=\"df-d13e9a5e-66ba-4d89-ae75-39b5e8e14699\" class=\"colab-df-container\">\n",
              "    <div>\n",
              "<style scoped>\n",
              "    .dataframe tbody tr th:only-of-type {\n",
              "        vertical-align: middle;\n",
              "    }\n",
              "\n",
              "    .dataframe tbody tr th {\n",
              "        vertical-align: top;\n",
              "    }\n",
              "\n",
              "    .dataframe thead th {\n",
              "        text-align: right;\n",
              "    }\n",
              "</style>\n",
              "<table border=\"1\" class=\"dataframe\">\n",
              "  <thead>\n",
              "    <tr style=\"text-align: right;\">\n",
              "      <th></th>\n",
              "      <th></th>\n",
              "      <th>State</th>\n",
              "      <th>Year</th>\n",
              "      <th>Season</th>\n",
              "      <th>Crop</th>\n",
              "      <th>Area</th>\n",
              "      <th>Production</th>\n",
              "      <th>Rainfall</th>\n",
              "    </tr>\n",
              "  </thead>\n",
              "  <tbody>\n",
              "    <tr>\n",
              "      <th>0</th>\n",
              "      <td>0</td>\n",
              "      <td>0</td>\n",
              "      <td>2000</td>\n",
              "      <td>1</td>\n",
              "      <td>0</td>\n",
              "      <td>1254.00</td>\n",
              "      <td>2000.00</td>\n",
              "      <td>2763.2</td>\n",
              "    </tr>\n",
              "    <tr>\n",
              "      <th>1</th>\n",
              "      <td>1</td>\n",
              "      <td>0</td>\n",
              "      <td>2000</td>\n",
              "      <td>1</td>\n",
              "      <td>50</td>\n",
              "      <td>2.00</td>\n",
              "      <td>1.00</td>\n",
              "      <td>2763.2</td>\n",
              "    </tr>\n",
              "    <tr>\n",
              "      <th>2</th>\n",
              "      <td>2</td>\n",
              "      <td>0</td>\n",
              "      <td>2000</td>\n",
              "      <td>1</td>\n",
              "      <td>63</td>\n",
              "      <td>102.00</td>\n",
              "      <td>321.00</td>\n",
              "      <td>2763.2</td>\n",
              "    </tr>\n",
              "    <tr>\n",
              "      <th>3</th>\n",
              "      <td>3</td>\n",
              "      <td>0</td>\n",
              "      <td>2000</td>\n",
              "      <td>4</td>\n",
              "      <td>3</td>\n",
              "      <td>176.00</td>\n",
              "      <td>641.00</td>\n",
              "      <td>2763.2</td>\n",
              "    </tr>\n",
              "    <tr>\n",
              "      <th>4</th>\n",
              "      <td>4</td>\n",
              "      <td>0</td>\n",
              "      <td>2000</td>\n",
              "      <td>4</td>\n",
              "      <td>13</td>\n",
              "      <td>720.00</td>\n",
              "      <td>165.00</td>\n",
              "      <td>2763.2</td>\n",
              "    </tr>\n",
              "    <tr>\n",
              "      <th>...</th>\n",
              "      <td>...</td>\n",
              "      <td>...</td>\n",
              "      <td>...</td>\n",
              "      <td>...</td>\n",
              "      <td>...</td>\n",
              "      <td>...</td>\n",
              "      <td>...</td>\n",
              "      <td>...</td>\n",
              "    </tr>\n",
              "    <tr>\n",
              "      <th>115</th>\n",
              "      <td>117</td>\n",
              "      <td>0</td>\n",
              "      <td>2010</td>\n",
              "      <td>2</td>\n",
              "      <td>23</td>\n",
              "      <td>254.00</td>\n",
              "      <td>402.00</td>\n",
              "      <td>3157.1</td>\n",
              "    </tr>\n",
              "    <tr>\n",
              "      <th>116</th>\n",
              "      <td>118</td>\n",
              "      <td>0</td>\n",
              "      <td>2010</td>\n",
              "      <td>2</td>\n",
              "      <td>24</td>\n",
              "      <td>110.00</td>\n",
              "      <td>1011.84</td>\n",
              "      <td>3157.1</td>\n",
              "    </tr>\n",
              "    <tr>\n",
              "      <th>117</th>\n",
              "      <td>119</td>\n",
              "      <td>0</td>\n",
              "      <td>2010</td>\n",
              "      <td>2</td>\n",
              "      <td>29</td>\n",
              "      <td>4.75</td>\n",
              "      <td>6.80</td>\n",
              "      <td>3157.1</td>\n",
              "    </tr>\n",
              "    <tr>\n",
              "      <th>118</th>\n",
              "      <td>120</td>\n",
              "      <td>0</td>\n",
              "      <td>2010</td>\n",
              "      <td>2</td>\n",
              "      <td>39</td>\n",
              "      <td>86.70</td>\n",
              "      <td>96.40</td>\n",
              "      <td>3157.1</td>\n",
              "    </tr>\n",
              "    <tr>\n",
              "      <th>119</th>\n",
              "      <td>121</td>\n",
              "      <td>0</td>\n",
              "      <td>2010</td>\n",
              "      <td>2</td>\n",
              "      <td>43</td>\n",
              "      <td>1168.60</td>\n",
              "      <td>556.55</td>\n",
              "      <td>3157.1</td>\n",
              "    </tr>\n",
              "  </tbody>\n",
              "</table>\n",
              "<p>120 rows × 8 columns</p>\n",
              "</div>\n",
              "    <div class=\"colab-df-buttons\">\n",
              "\n",
              "  <div class=\"colab-df-container\">\n",
              "    <button class=\"colab-df-convert\" onclick=\"convertToInteractive('df-d13e9a5e-66ba-4d89-ae75-39b5e8e14699')\"\n",
              "            title=\"Convert this dataframe to an interactive table.\"\n",
              "            style=\"display:none;\">\n",
              "\n",
              "  <svg xmlns=\"http://www.w3.org/2000/svg\" height=\"24px\" viewBox=\"0 -960 960 960\">\n",
              "    <path d=\"M120-120v-720h720v720H120Zm60-500h600v-160H180v160Zm220 220h160v-160H400v160Zm0 220h160v-160H400v160ZM180-400h160v-160H180v160Zm440 0h160v-160H620v160ZM180-180h160v-160H180v160Zm440 0h160v-160H620v160Z\"/>\n",
              "  </svg>\n",
              "    </button>\n",
              "\n",
              "  <style>\n",
              "    .colab-df-container {\n",
              "      display:flex;\n",
              "      gap: 12px;\n",
              "    }\n",
              "\n",
              "    .colab-df-convert {\n",
              "      background-color: #E8F0FE;\n",
              "      border: none;\n",
              "      border-radius: 50%;\n",
              "      cursor: pointer;\n",
              "      display: none;\n",
              "      fill: #1967D2;\n",
              "      height: 32px;\n",
              "      padding: 0 0 0 0;\n",
              "      width: 32px;\n",
              "    }\n",
              "\n",
              "    .colab-df-convert:hover {\n",
              "      background-color: #E2EBFA;\n",
              "      box-shadow: 0px 1px 2px rgba(60, 64, 67, 0.3), 0px 1px 3px 1px rgba(60, 64, 67, 0.15);\n",
              "      fill: #174EA6;\n",
              "    }\n",
              "\n",
              "    .colab-df-buttons div {\n",
              "      margin-bottom: 4px;\n",
              "    }\n",
              "\n",
              "    [theme=dark] .colab-df-convert {\n",
              "      background-color: #3B4455;\n",
              "      fill: #D2E3FC;\n",
              "    }\n",
              "\n",
              "    [theme=dark] .colab-df-convert:hover {\n",
              "      background-color: #434B5C;\n",
              "      box-shadow: 0px 1px 3px 1px rgba(0, 0, 0, 0.15);\n",
              "      filter: drop-shadow(0px 1px 2px rgba(0, 0, 0, 0.3));\n",
              "      fill: #FFFFFF;\n",
              "    }\n",
              "  </style>\n",
              "\n",
              "    <script>\n",
              "      const buttonEl =\n",
              "        document.querySelector('#df-d13e9a5e-66ba-4d89-ae75-39b5e8e14699 button.colab-df-convert');\n",
              "      buttonEl.style.display =\n",
              "        google.colab.kernel.accessAllowed ? 'block' : 'none';\n",
              "\n",
              "      async function convertToInteractive(key) {\n",
              "        const element = document.querySelector('#df-d13e9a5e-66ba-4d89-ae75-39b5e8e14699');\n",
              "        const dataTable =\n",
              "          await google.colab.kernel.invokeFunction('convertToInteractive',\n",
              "                                                    [key], {});\n",
              "        if (!dataTable) return;\n",
              "\n",
              "        const docLinkHtml = 'Like what you see? Visit the ' +\n",
              "          '<a target=\"_blank\" href=https://colab.research.google.com/notebooks/data_table.ipynb>data table notebook</a>'\n",
              "          + ' to learn more about interactive tables.';\n",
              "        element.innerHTML = '';\n",
              "        dataTable['output_type'] = 'display_data';\n",
              "        await google.colab.output.renderOutput(dataTable, element);\n",
              "        const docLink = document.createElement('div');\n",
              "        docLink.innerHTML = docLinkHtml;\n",
              "        element.appendChild(docLink);\n",
              "      }\n",
              "    </script>\n",
              "  </div>\n",
              "\n",
              "\n",
              "<div id=\"df-70031b7e-48bf-43c1-aa5c-45c6e20f91a6\">\n",
              "  <button class=\"colab-df-quickchart\" onclick=\"quickchart('df-70031b7e-48bf-43c1-aa5c-45c6e20f91a6')\"\n",
              "            title=\"Suggest charts\"\n",
              "            style=\"display:none;\">\n",
              "\n",
              "<svg xmlns=\"http://www.w3.org/2000/svg\" height=\"24px\"viewBox=\"0 0 24 24\"\n",
              "     width=\"24px\">\n",
              "    <g>\n",
              "        <path d=\"M19 3H5c-1.1 0-2 .9-2 2v14c0 1.1.9 2 2 2h14c1.1 0 2-.9 2-2V5c0-1.1-.9-2-2-2zM9 17H7v-7h2v7zm4 0h-2V7h2v10zm4 0h-2v-4h2v4z\"/>\n",
              "    </g>\n",
              "</svg>\n",
              "  </button>\n",
              "\n",
              "<style>\n",
              "  .colab-df-quickchart {\n",
              "      --bg-color: #E8F0FE;\n",
              "      --fill-color: #1967D2;\n",
              "      --hover-bg-color: #E2EBFA;\n",
              "      --hover-fill-color: #174EA6;\n",
              "      --disabled-fill-color: #AAA;\n",
              "      --disabled-bg-color: #DDD;\n",
              "  }\n",
              "\n",
              "  [theme=dark] .colab-df-quickchart {\n",
              "      --bg-color: #3B4455;\n",
              "      --fill-color: #D2E3FC;\n",
              "      --hover-bg-color: #434B5C;\n",
              "      --hover-fill-color: #FFFFFF;\n",
              "      --disabled-bg-color: #3B4455;\n",
              "      --disabled-fill-color: #666;\n",
              "  }\n",
              "\n",
              "  .colab-df-quickchart {\n",
              "    background-color: var(--bg-color);\n",
              "    border: none;\n",
              "    border-radius: 50%;\n",
              "    cursor: pointer;\n",
              "    display: none;\n",
              "    fill: var(--fill-color);\n",
              "    height: 32px;\n",
              "    padding: 0;\n",
              "    width: 32px;\n",
              "  }\n",
              "\n",
              "  .colab-df-quickchart:hover {\n",
              "    background-color: var(--hover-bg-color);\n",
              "    box-shadow: 0 1px 2px rgba(60, 64, 67, 0.3), 0 1px 3px 1px rgba(60, 64, 67, 0.15);\n",
              "    fill: var(--button-hover-fill-color);\n",
              "  }\n",
              "\n",
              "  .colab-df-quickchart-complete:disabled,\n",
              "  .colab-df-quickchart-complete:disabled:hover {\n",
              "    background-color: var(--disabled-bg-color);\n",
              "    fill: var(--disabled-fill-color);\n",
              "    box-shadow: none;\n",
              "  }\n",
              "\n",
              "  .colab-df-spinner {\n",
              "    border: 2px solid var(--fill-color);\n",
              "    border-color: transparent;\n",
              "    border-bottom-color: var(--fill-color);\n",
              "    animation:\n",
              "      spin 1s steps(1) infinite;\n",
              "  }\n",
              "\n",
              "  @keyframes spin {\n",
              "    0% {\n",
              "      border-color: transparent;\n",
              "      border-bottom-color: var(--fill-color);\n",
              "      border-left-color: var(--fill-color);\n",
              "    }\n",
              "    20% {\n",
              "      border-color: transparent;\n",
              "      border-left-color: var(--fill-color);\n",
              "      border-top-color: var(--fill-color);\n",
              "    }\n",
              "    30% {\n",
              "      border-color: transparent;\n",
              "      border-left-color: var(--fill-color);\n",
              "      border-top-color: var(--fill-color);\n",
              "      border-right-color: var(--fill-color);\n",
              "    }\n",
              "    40% {\n",
              "      border-color: transparent;\n",
              "      border-right-color: var(--fill-color);\n",
              "      border-top-color: var(--fill-color);\n",
              "    }\n",
              "    60% {\n",
              "      border-color: transparent;\n",
              "      border-right-color: var(--fill-color);\n",
              "    }\n",
              "    80% {\n",
              "      border-color: transparent;\n",
              "      border-right-color: var(--fill-color);\n",
              "      border-bottom-color: var(--fill-color);\n",
              "    }\n",
              "    90% {\n",
              "      border-color: transparent;\n",
              "      border-bottom-color: var(--fill-color);\n",
              "    }\n",
              "  }\n",
              "</style>\n",
              "\n",
              "  <script>\n",
              "    async function quickchart(key) {\n",
              "      const quickchartButtonEl =\n",
              "        document.querySelector('#' + key + ' button');\n",
              "      quickchartButtonEl.disabled = true;  // To prevent multiple clicks.\n",
              "      quickchartButtonEl.classList.add('colab-df-spinner');\n",
              "      try {\n",
              "        const charts = await google.colab.kernel.invokeFunction(\n",
              "            'suggestCharts', [key], {});\n",
              "      } catch (error) {\n",
              "        console.error('Error during call to suggestCharts:', error);\n",
              "      }\n",
              "      quickchartButtonEl.classList.remove('colab-df-spinner');\n",
              "      quickchartButtonEl.classList.add('colab-df-quickchart-complete');\n",
              "    }\n",
              "    (() => {\n",
              "      let quickchartButtonEl =\n",
              "        document.querySelector('#df-70031b7e-48bf-43c1-aa5c-45c6e20f91a6 button');\n",
              "      quickchartButtonEl.style.display =\n",
              "        google.colab.kernel.accessAllowed ? 'block' : 'none';\n",
              "    })();\n",
              "  </script>\n",
              "</div>\n",
              "    </div>\n",
              "  </div>\n"
            ]
          },
          "metadata": {},
          "execution_count": 15
        }
      ],
      "source": [
        "data.head(120)\n"
      ]
    },
    {
      "cell_type": "code",
      "execution_count": 16,
      "metadata": {
        "id": "dFKEGBgRtLIe",
        "colab": {
          "base_uri": "https://localhost:8080/"
        },
        "outputId": "50a122dc-6645-45a5-ee59-cf558f3a5cf1"
      },
      "outputs": [
        {
          "output_type": "stream",
          "name": "stdout",
          "text": [
            "               State  Year  Season  Crop     Area  Production  Rainfall\n",
            "0           0      0  2000       1     0   1254.0      2000.0    2763.2\n",
            "1           1      0  2000       1    50      2.0         1.0    2763.2\n",
            "2           2      0  2000       1    63    102.0       321.0    2763.2\n",
            "3           3      0  2000       4     3    176.0       641.0    2763.2\n",
            "4           4      0  2000       4    13    720.0       165.0    2763.2\n",
            "...       ...    ...   ...     ...   ...      ...         ...       ...\n",
            "74970  236473     11  2014       4    47     26.0       172.0    1287.4\n",
            "74971  236474     11  2014       4    59   5346.0      4630.0    1287.4\n",
            "74972  236475     11  2014       4    63   9919.0     16499.0    1287.4\n",
            "74973  236476     11  2014       4    72      3.0         3.0    1287.4\n",
            "74974  236477     11  2014       4    78  35417.0     49689.0    1287.4\n",
            "\n",
            "[74975 rows x 8 columns]\n"
          ]
        }
      ],
      "source": [
        "print(data)"
      ]
    },
    {
      "cell_type": "markdown",
      "source": [
        "#**Splitting the features**"
      ],
      "metadata": {
        "id": "AUACcGep_qe_"
      }
    },
    {
      "cell_type": "code",
      "execution_count": 17,
      "metadata": {
        "id": "-ZUAQt_LSoyC"
      },
      "outputs": [],
      "source": [
        "x = data.iloc[:,[1,2,3,4,5,7]]\n",
        "y = data.iloc[:,6]"
      ]
    },
    {
      "cell_type": "code",
      "execution_count": 18,
      "metadata": {
        "id": "RV9y1unOwa2s",
        "colab": {
          "base_uri": "https://localhost:8080/"
        },
        "outputId": "8ce62940-8cf6-4678-c01d-8f5d56bddb56"
      },
      "outputs": [
        {
          "output_type": "stream",
          "name": "stdout",
          "text": [
            "       State  Year  Season  Crop     Area  Rainfall\n",
            "0          0  2000       1     0   1254.0    2763.2\n",
            "1          0  2000       1    50      2.0    2763.2\n",
            "2          0  2000       1    63    102.0    2763.2\n",
            "3          0  2000       4     3    176.0    2763.2\n",
            "4          0  2000       4    13    720.0    2763.2\n",
            "...      ...   ...     ...   ...      ...       ...\n",
            "74970     11  2014       4    47     26.0    1287.4\n",
            "74971     11  2014       4    59   5346.0    1287.4\n",
            "74972     11  2014       4    63   9919.0    1287.4\n",
            "74973     11  2014       4    72      3.0    1287.4\n",
            "74974     11  2014       4    78  35417.0    1287.4\n",
            "\n",
            "[74975 rows x 6 columns]\n"
          ]
        }
      ],
      "source": [
        "print(x)"
      ]
    },
    {
      "cell_type": "code",
      "source": [
        "print(y)"
      ],
      "metadata": {
        "id": "UMfKVHTrADqf",
        "colab": {
          "base_uri": "https://localhost:8080/"
        },
        "outputId": "6467c1b1-5024-48d7-8c46-8076279a563e"
      },
      "execution_count": 19,
      "outputs": [
        {
          "output_type": "stream",
          "name": "stdout",
          "text": [
            "0         2000.0\n",
            "1            1.0\n",
            "2          321.0\n",
            "3          641.0\n",
            "4          165.0\n",
            "          ...   \n",
            "74970      172.0\n",
            "74971     4630.0\n",
            "74972    16499.0\n",
            "74973        3.0\n",
            "74974    49689.0\n",
            "Name: Production, Length: 74975, dtype: float64\n"
          ]
        }
      ]
    },
    {
      "cell_type": "code",
      "source": [
        "data.to_csv('raw_data.csv',index=False)"
      ],
      "metadata": {
        "id": "f5dnf-wSf3pO"
      },
      "execution_count": 20,
      "outputs": []
    },
    {
      "cell_type": "markdown",
      "source": [
        "#**Splitting Dataset into training set and testing set**"
      ],
      "metadata": {
        "id": "TfunP1O5AAcr"
      }
    },
    {
      "cell_type": "code",
      "source": [
        "from sklearn.model_selection import train_test_split\n",
        "#from sklearn.cross_validation import train_test_split"
      ],
      "metadata": {
        "id": "YakN5DK2ABCH"
      },
      "execution_count": 21,
      "outputs": []
    },
    {
      "cell_type": "code",
      "execution_count": 22,
      "metadata": {
        "id": "PkzvwJv1SuCO"
      },
      "outputs": [],
      "source": [
        "x_train, x_test, y_train, y_test = train_test_split(x.values, y.values, test_size=0.20, random_state=0)"
      ]
    },
    {
      "cell_type": "code",
      "source": [
        "print(x_train)"
      ],
      "metadata": {
        "id": "nUdiWYCQAOnT",
        "colab": {
          "base_uri": "https://localhost:8080/"
        },
        "outputId": "cfa944ee-5adf-45c9-a616-25e26ab6271a"
      },
      "execution_count": 23,
      "outputs": [
        {
          "output_type": "stream",
          "name": "stdout",
          "text": [
            "[[2.0000e+00 2.0010e+03 2.0000e+00 2.7000e+01 3.3370e+03 1.2470e+03]\n",
            " [1.1000e+01 2.0090e+03 1.0000e+00 8.5000e+01 2.0000e+00 8.4780e+02]\n",
            " [2.0000e+00 2.0140e+03 1.0000e+00 4.2000e+01 1.6000e+01 1.0610e+03]\n",
            " ...\n",
            " [8.0000e+00 2.0010e+03 1.0000e+00 3.1000e+01 1.1980e+03 1.6725e+03]\n",
            " [8.0000e+00 2.0060e+03 3.0000e+00 3.9000e+01 1.0000e+00 1.7169e+03]\n",
            " [1.0000e+01 2.0110e+03 4.0000e+00 7.4000e+01 2.3610e+03 9.2650e+02]]\n"
          ]
        }
      ]
    },
    {
      "cell_type": "code",
      "source": [
        "print(x_test)"
      ],
      "metadata": {
        "id": "KEN6N82OARdf",
        "colab": {
          "base_uri": "https://localhost:8080/"
        },
        "outputId": "b035bb1c-2ccc-407a-e031-99288ed2746a"
      },
      "execution_count": 24,
      "outputs": [
        {
          "output_type": "stream",
          "name": "stdout",
          "text": [
            "[[8.0000e+00 2.0090e+03 3.0000e+00 8.3000e+01 4.9500e+02 1.3303e+03]\n",
            " [9.0000e+00 2.0080e+03 1.0000e+00 1.0000e+00 1.0000e+02 7.1710e+02]\n",
            " [1.0000e+01 2.0110e+03 4.0000e+00 1.7000e+01 6.7310e+03 9.2650e+02]\n",
            " ...\n",
            " [8.0000e+00 2.0030e+03 1.0000e+00 3.3000e+01 8.3000e+02 1.6482e+03]\n",
            " [2.0000e+00 2.0080e+03 1.0000e+00 2.4000e+01 1.6000e+01 1.1977e+03]\n",
            " [3.0000e+00 2.0100e+03 4.0000e+00 2.4000e+01 2.0000e+00 1.3066e+03]]\n"
          ]
        }
      ]
    },
    {
      "cell_type": "code",
      "source": [
        "print(y_test)"
      ],
      "metadata": {
        "id": "klh1ELErAYje",
        "colab": {
          "base_uri": "https://localhost:8080/"
        },
        "outputId": "9a2011b0-9dee-443d-9f5e-d15e69fbadbe"
      },
      "execution_count": 25,
      "outputs": [
        {
          "output_type": "stream",
          "name": "stdout",
          "text": [
            "[5.297e+02 1.000e+02 7.520e+07 ... 5.100e+02 2.600e+01 2.000e+00]\n"
          ]
        }
      ]
    },
    {
      "cell_type": "code",
      "source": [
        "print(y_train)"
      ],
      "metadata": {
        "id": "8Saph5VOAV7-",
        "colab": {
          "base_uri": "https://localhost:8080/"
        },
        "outputId": "35a6047c-0187-4af4-cfaf-f3c4df5d0e1c"
      },
      "execution_count": 26,
      "outputs": [
        {
          "output_type": "stream",
          "name": "stdout",
          "text": [
            "[2.0660e+03 2.0000e+00 2.0700e+02 ... 3.7020e+02 1.3000e+00 8.8922e+04]\n"
          ]
        }
      ]
    },
    {
      "cell_type": "markdown",
      "source": [
        "#**Bagging Regressor**"
      ],
      "metadata": {
        "id": "LUs47r2HAbX4"
      }
    },
    {
      "cell_type": "code",
      "execution_count": 27,
      "metadata": {
        "id": "TnyYNwRHT8KX"
      },
      "outputs": [],
      "source": [
        "from sklearn.ensemble import BaggingRegressor"
      ]
    },
    {
      "cell_type": "code",
      "source": [
        "bg = BaggingRegressor()"
      ],
      "metadata": {
        "id": "whmBLoNn-iIT"
      },
      "execution_count": 28,
      "outputs": []
    },
    {
      "cell_type": "code",
      "source": [
        "\n",
        "# Code to Measure time taken by program to execute.\n",
        "import time\n",
        "\n",
        "# store starting time\n",
        "begin1 = time.time()\n",
        "bg.fit(x_train,y_train)\n",
        "time.sleep(1)\n",
        "# store end time\n",
        "end1 = time.time()\n",
        "\n",
        "# total time taken\n",
        "print(f\"Total runtime of the program is {end1 - begin1}\")\n"
      ],
      "metadata": {
        "id": "XAm90H9j7aLM",
        "colab": {
          "base_uri": "https://localhost:8080/"
        },
        "outputId": "e478df30-1497-473b-e938-d2d2b41c8f99"
      },
      "execution_count": 29,
      "outputs": [
        {
          "output_type": "stream",
          "name": "stdout",
          "text": [
            "Total runtime of the program is 3.8756229877471924\n"
          ]
        }
      ]
    },
    {
      "cell_type": "code",
      "source": [
        "t1=end1-begin1\n",
        "print(t1)"
      ],
      "metadata": {
        "id": "ECxSiRyj-z4C",
        "colab": {
          "base_uri": "https://localhost:8080/"
        },
        "outputId": "47853b18-4107-4e56-e717-704a1c1f6706"
      },
      "execution_count": 30,
      "outputs": [
        {
          "output_type": "stream",
          "name": "stdout",
          "text": [
            "3.8756229877471924\n"
          ]
        }
      ]
    },
    {
      "cell_type": "code",
      "execution_count": 31,
      "metadata": {
        "id": "Nj8ximyhT_r6"
      },
      "outputs": [],
      "source": [
        "y_pred =bg.predict(x_test)"
      ]
    },
    {
      "cell_type": "code",
      "execution_count": 32,
      "metadata": {
        "id": "IS8ESfGuUEvN",
        "colab": {
          "base_uri": "https://localhost:8080/"
        },
        "outputId": "384e3e96-cf67-44d9-a187-91c21bc0c0b4"
      },
      "outputs": [
        {
          "output_type": "stream",
          "name": "stdout",
          "text": [
            "[7.69660000e+02 1.00000000e+02 8.14100000e+07 ... 5.81810000e+02\n",
            " 5.74666667e+01 2.40000000e+00]\n"
          ]
        }
      ],
      "source": [
        "print(y_pred)"
      ]
    },
    {
      "cell_type": "markdown",
      "source": [
        "#R2_score for Bagging Regressor"
      ],
      "metadata": {
        "id": "uswsSlAEYFnC"
      }
    },
    {
      "cell_type": "code",
      "source": [
        "%matplotlib inline\n",
        "import numpy as np\n",
        "\n",
        "import matplotlib.pyplot as plt\n",
        "from scipy import stats\n",
        "\n",
        "slope, intercept, r_value, p_value, std_err = stats.linregress(y_test,y_pred)\n",
        "def linefitline(b):\n",
        "    return intercept + slope * b\n",
        "line1 = linefitline(y_test)\n",
        "\n",
        "#plot line\n",
        "plt.scatter(y_test,y_pred)\n",
        "plt.plot(y_test,line1, c = 'g')\n",
        "plt.show()"
      ],
      "metadata": {
        "id": "qupdI7EfD-He",
        "colab": {
          "base_uri": "https://localhost:8080/",
          "height": 463
        },
        "outputId": "73aed66f-79c0-4e23-8a31-30d145b3b2b5"
      },
      "execution_count": 33,
      "outputs": [
        {
          "output_type": "display_data",
          "data": {
            "text/plain": [
              "<Figure size 640x480 with 1 Axes>"
            ],
            "image/png": "[encoded data removed]"
          },
          "metadata": {}
        }
      ]
    },
    {
      "cell_type": "code",
      "source": [
        "line2 = np.full(y_pred.shape,[y_pred.mean()])\n"
      ],
      "metadata": {
        "id": "r_YdSDjXGuAW"
      },
      "execution_count": 34,
      "outputs": []
    },
    {
      "cell_type": "code",
      "source": [
        "def linefitline(b):\n",
        "    return intercept + slope * b\n",
        "differences_line1 = linefitline(y_test)-y_pred\n",
        "line1sum = 0\n",
        "for i in differences_line1:\n",
        "    line1sum = line1sum + (i*i)\n",
        "line1sum"
      ],
      "metadata": {
        "id": "mH7XvSvIIBEv",
        "colab": {
          "base_uri": "https://localhost:8080/"
        },
        "outputId": "111522e5-d6e8-4b86-90d4-ec8a3997832d"
      },
      "execution_count": 35,
      "outputs": [
        {
          "output_type": "execute_result",
          "data": {
            "text/plain": [
              "9.266695196152118e+17"
            ]
          },
          "metadata": {},
          "execution_count": 35
        }
      ]
    },
    {
      "cell_type": "code",
      "source": [
        "differences_line2 = line2 - y_pred\n",
        "line2sum = 0\n",
        "for i in differences_line2:\n",
        "    line2sum = line2sum + (i*i)\n",
        "line2sum"
      ],
      "metadata": {
        "id": "HwlgBOjzI1vU",
        "colab": {
          "base_uri": "https://localhost:8080/"
        },
        "outputId": "9e53d87f-0aeb-43d5-da2d-f231bbe3dbf8"
      },
      "execution_count": 36,
      "outputs": [
        {
          "output_type": "execute_result",
          "data": {
            "text/plain": [
              "9.265611243233479e+18"
            ]
          },
          "metadata": {},
          "execution_count": 36
        }
      ]
    },
    {
      "cell_type": "code",
      "source": [
        "li=line2sum-line1sum\n",
        "bg_score=li/line2sum"
      ],
      "metadata": {
        "id": "tjP_lkR4ex_x"
      },
      "execution_count": 37,
      "outputs": []
    },
    {
      "cell_type": "code",
      "source": [
        "print(bg_score)"
      ],
      "metadata": {
        "id": "Pavinx9xfVMJ",
        "colab": {
          "base_uri": "https://localhost:8080/"
        },
        "outputId": "5ad906de-2259-4b36-bd83-f81c83d25873"
      },
      "execution_count": 38,
      "outputs": [
        {
          "output_type": "stream",
          "name": "stdout",
          "text": [
            "0.8999883013339306\n"
          ]
        }
      ]
    },
    {
      "cell_type": "code",
      "source": [
        "print('R2_score of Bagging Regressor = %.5f' %(bg_score))"
      ],
      "metadata": {
        "id": "1KxZisf7e1ZO",
        "colab": {
          "base_uri": "https://localhost:8080/"
        },
        "outputId": "8eb76279-093d-4310-fcca-3e12ed56e17f"
      },
      "execution_count": 39,
      "outputs": [
        {
          "output_type": "stream",
          "name": "stdout",
          "text": [
            "R2_score of Bagging Regressor = 0.89999\n"
          ]
        }
      ]
    },
    {
      "cell_type": "markdown",
      "source": [
        "#**Support Vector Regressor**"
      ],
      "metadata": {
        "id": "dXXQ8gswYUhj"
      }
    },
    {
      "cell_type": "code",
      "execution_count": 40,
      "metadata": {
        "id": "LrG4467TUc0K"
      },
      "outputs": [],
      "source": [
        "from sklearn.svm import SVR"
      ]
    },
    {
      "cell_type": "code",
      "source": [
        "sv = SVR()"
      ],
      "metadata": {
        "id": "zZubf_4b_Ccv"
      },
      "execution_count": 41,
      "outputs": []
    },
    {
      "cell_type": "code",
      "source": [
        "\n",
        "# Code to Measure time taken by program to execute.\n",
        "import time\n",
        "\n",
        "# store starting time\n",
        "begin2 = time.time()\n",
        "sv.fit(x_train[:10000],y_train[:10000])\n",
        "time.sleep(1)\n",
        "# store end time\n",
        "end2 = time.time()\n",
        "\n",
        "# total time taken\n",
        "print(f\"Total runtime of the program is {end2 - begin2}\")"
      ],
      "metadata": {
        "id": "DSqqhU417vZ5",
        "colab": {
          "base_uri": "https://localhost:8080/"
        },
        "outputId": "7368e290-269c-46fa-a220-cff7738a8e25"
      },
      "execution_count": 42,
      "outputs": [
        {
          "output_type": "stream",
          "name": "stdout",
          "text": [
            "Total runtime of the program is 9.041023015975952\n"
          ]
        }
      ]
    },
    {
      "cell_type": "code",
      "source": [
        "t2=end2-begin2\n",
        "print(t2)"
      ],
      "metadata": {
        "id": "JxY9nbcT_Lvz",
        "colab": {
          "base_uri": "https://localhost:8080/"
        },
        "outputId": "7b24fbec-9299-432f-cc06-adf72dab0cf1"
      },
      "execution_count": 43,
      "outputs": [
        {
          "output_type": "stream",
          "name": "stdout",
          "text": [
            "9.041023015975952\n"
          ]
        }
      ]
    },
    {
      "cell_type": "code",
      "execution_count": 44,
      "metadata": {
        "id": "W6Jwvt0lUkcH"
      },
      "outputs": [],
      "source": [
        "svp = sv.predict(x_test)"
      ]
    },
    {
      "cell_type": "code",
      "source": [
        "print(svp)"
      ],
      "metadata": {
        "id": "xvF05o-Ra2Z7",
        "colab": {
          "base_uri": "https://localhost:8080/"
        },
        "outputId": "5788fd44-f0e8-4091-9f77-beaa5653d7ae"
      },
      "execution_count": 45,
      "outputs": [
        {
          "output_type": "stream",
          "name": "stdout",
          "text": [
            "[509.44496105 495.60091656 773.42048882 ... 521.7479454  492.60335603\n",
            " 492.15174327]\n"
          ]
        }
      ]
    },
    {
      "cell_type": "markdown",
      "source": [
        "#R2_score for Support Vector Regressor"
      ],
      "metadata": {
        "id": "SiZ4_ayOYca4"
      }
    },
    {
      "cell_type": "code",
      "source": [
        "%matplotlib inline\n",
        "import numpy as np\n",
        "import matplotlib.pyplot as plt\n",
        "from scipy import stats\n",
        "\n",
        "slope, intercept, r_value, p_value, std_err = stats.linregress(y_test,svp)\n",
        "def linefitline(b):\n",
        "    return intercept + slope * b\n",
        "line1 = linefitline(y_test)\n",
        "\n",
        "#plot line\n",
        "plt.scatter(y_test,svp)\n",
        "plt.plot(y_test,line1, c = 'g')\n",
        "plt.show()"
      ],
      "metadata": {
        "id": "LsOpoaWUgS8A",
        "colab": {
          "base_uri": "https://localhost:8080/",
          "height": 448
        },
        "outputId": "2c39419d-2255-4a4e-e341-95344ccb9619"
      },
      "execution_count": 46,
      "outputs": [
        {
          "output_type": "display_data",
          "data": {
            "text/plain": [
              "<Figure size 640x480 with 1 Axes>"
            ],
            "image/png": "[encoded data removed]"
          },
          "metadata": {}
        }
      ]
    },
    {
      "cell_type": "code",
      "source": [
        "line2 = np.full(14995,[svp.mean()])\n"
      ],
      "metadata": {
        "id": "s6h_Ft9bgkam"
      },
      "execution_count": 47,
      "outputs": []
    },
    {
      "cell_type": "code",
      "source": [
        "def linefitline(b):\n",
        "    return intercept + slope * b\n",
        "differences_line1 = linefitline(y_test)-svp\n",
        "line1sum = 0\n",
        "for i in differences_line1:\n",
        "    line1sum = line1sum + (i*i)\n",
        "line1sum"
      ],
      "metadata": {
        "id": "sjzzw6UWgkzX",
        "colab": {
          "base_uri": "https://localhost:8080/"
        },
        "outputId": "1dd8c117-1767-4ed5-cd71-3d65523ee3b5"
      },
      "execution_count": 48,
      "outputs": [
        {
          "output_type": "execute_result",
          "data": {
            "text/plain": [
              "1587628386.9803479"
            ]
          },
          "metadata": {},
          "execution_count": 48
        }
      ]
    },
    {
      "cell_type": "code",
      "source": [
        "differences_line2 = line2 - svp\n",
        "line2sum = 0\n",
        "for i in differences_line2:\n",
        "    line2sum = line2sum + (i*i)\n",
        "line2sum"
      ],
      "metadata": {
        "id": "aFrZPUjRglDc",
        "colab": {
          "base_uri": "https://localhost:8080/"
        },
        "outputId": "db63b279-efd4-4d0b-8f6b-81aced7001f7"
      },
      "execution_count": 49,
      "outputs": [
        {
          "output_type": "execute_result",
          "data": {
            "text/plain": [
              "1618913989.1025262"
            ]
          },
          "metadata": {},
          "execution_count": 49
        }
      ]
    },
    {
      "cell_type": "code",
      "source": [
        "li=line2sum-line1sum\n",
        "sv_score=li/line2sum\n",
        "print(sv_score)\n"
      ],
      "metadata": {
        "id": "R3av4gkeg28w",
        "colab": {
          "base_uri": "https://localhost:8080/"
        },
        "outputId": "e557a231-0e9a-4fa3-d01a-4e3b2a661c7d"
      },
      "execution_count": 50,
      "outputs": [
        {
          "output_type": "stream",
          "name": "stdout",
          "text": [
            "0.01932505514979338\n"
          ]
        }
      ]
    },
    {
      "cell_type": "code",
      "source": [
        "print('R2_score of Support Vector Regressor = %.5f' %(sv_score))"
      ],
      "metadata": {
        "id": "NqtYAlmEfy9A",
        "colab": {
          "base_uri": "https://localhost:8080/"
        },
        "outputId": "b4dd4cd8-7ea8-40ee-8733-dcda176c43e5"
      },
      "execution_count": 51,
      "outputs": [
        {
          "output_type": "stream",
          "name": "stdout",
          "text": [
            "R2_score of Support Vector Regressor = 0.01933\n"
          ]
        }
      ]
    },
    {
      "cell_type": "markdown",
      "source": [
        "#**KNN**"
      ],
      "metadata": {
        "id": "TDclYNIYBHaP"
      }
    },
    {
      "cell_type": "code",
      "source": [
        "from sklearn.neighbors import KNeighborsRegressor\n",
        "\n",
        "knn = KNeighborsRegressor(n_neighbors=5)\n"
      ],
      "metadata": {
        "id": "s8RE0E50BK2e"
      },
      "execution_count": 52,
      "outputs": []
    },
    {
      "cell_type": "code",
      "source": [
        "import time\n",
        "\n",
        "# store starting time\n",
        "begin3 = time.time()\n",
        "knn.fit(x_train,y_train)\n",
        "\n",
        "time.sleep(1)\n",
        "# store end time\n",
        "end3 = time.time()\n",
        "\n",
        "# total time taken\n",
        "print(f\"Total runtime of the program is {end3 - begin3}\")"
      ],
      "metadata": {
        "id": "axGAQWb_9z-z",
        "colab": {
          "base_uri": "https://localhost:8080/"
        },
        "outputId": "b79d7e39-1881-49b7-a44c-3bbf1fa0f030"
      },
      "execution_count": 53,
      "outputs": [
        {
          "output_type": "stream",
          "name": "stdout",
          "text": [
            "Total runtime of the program is 1.1016719341278076\n"
          ]
        }
      ]
    },
    {
      "cell_type": "code",
      "source": [
        "t3=end3-begin3\n",
        "print(t3)"
      ],
      "metadata": {
        "id": "n9yWiBQx_WUi",
        "colab": {
          "base_uri": "https://localhost:8080/"
        },
        "outputId": "8afd6266-8be9-4670-d5a5-a6d3461e344d"
      },
      "execution_count": 54,
      "outputs": [
        {
          "output_type": "stream",
          "name": "stdout",
          "text": [
            "1.1016719341278076\n"
          ]
        }
      ]
    },
    {
      "cell_type": "code",
      "source": [
        "knnp = knn.predict(x_test)"
      ],
      "metadata": {
        "id": "J09pTQICBVya"
      },
      "execution_count": 55,
      "outputs": []
    },
    {
      "cell_type": "code",
      "source": [
        "print(knnp)"
      ],
      "metadata": {
        "id": "CQyFzMevW5HF",
        "colab": {
          "base_uri": "https://localhost:8080/"
        },
        "outputId": "e9f60aaa-ab1d-4130-e648-79223fd5b4f6"
      },
      "execution_count": 56,
      "outputs": [
        {
          "output_type": "stream",
          "name": "stdout",
          "text": [
            "[4.6058e+02 1.2680e+02 7.7103e+04 ... 6.7732e+02 1.8600e+01 5.2000e+00]\n"
          ]
        }
      ]
    },
    {
      "cell_type": "markdown",
      "source": [
        "#R2_score for KNN"
      ],
      "metadata": {
        "id": "IU53QdR7gNrQ"
      }
    },
    {
      "cell_type": "code",
      "source": [
        "%matplotlib inline\n",
        "import numpy as np\n",
        "import matplotlib.pyplot as plt\n",
        "from scipy import stats\n",
        "\n",
        "slope, intercept, r_value, p_value, std_err = stats.linregress(y_test,knnp)\n",
        "def linefitline(b):\n",
        "    return intercept + slope * b\n",
        "line1 = linefitline(y_test)\n",
        "\n",
        "#plot line\n",
        "plt.scatter(y_test,knnp)\n",
        "plt.plot(y_test,line1, c = 'g')\n",
        "plt.show()"
      ],
      "metadata": {
        "id": "dJxSOXUAdbB4",
        "colab": {
          "base_uri": "https://localhost:8080/",
          "height": 463
        },
        "outputId": "0a31f3ef-f3a0-4730-959c-040a043092c8"
      },
      "execution_count": 57,
      "outputs": [
        {
          "output_type": "display_data",
          "data": {
            "text/plain": [
              "<Figure size 640x480 with 1 Axes>"
            ],
            "image/png": "[encoded data removed]"
          },
          "metadata": {}
        }
      ]
    },
    {
      "cell_type": "code",
      "source": [
        "line2 = np.full(14995,[knnp.mean()])\n"
      ],
      "metadata": {
        "id": "b4LlH1kRdytU"
      },
      "execution_count": 58,
      "outputs": []
    },
    {
      "cell_type": "code",
      "source": [
        "def linefitline(b):\n",
        "    return intercept + slope * b\n",
        "differences_line1 = linefitline(y_test)-knnp\n",
        "line1sum = 0\n",
        "for i in differences_line1:\n",
        "    line1sum = line1sum + (i*i)\n",
        "line1sum"
      ],
      "metadata": {
        "id": "OpaNfKjyd_ZQ",
        "colab": {
          "base_uri": "https://localhost:8080/"
        },
        "outputId": "404b7d15-617f-4ae8-a30a-eb13bd147c30"
      },
      "execution_count": 59,
      "outputs": [
        {
          "output_type": "execute_result",
          "data": {
            "text/plain": [
              "2.338821547742313e+18"
            ]
          },
          "metadata": {},
          "execution_count": 59
        }
      ]
    },
    {
      "cell_type": "code",
      "source": [
        "differences_line2 = line2 - knnp\n",
        "line2sum = 0\n",
        "for i in differences_line2:\n",
        "    line2sum = line2sum + (i*i)\n",
        "line2sum"
      ],
      "metadata": {
        "id": "rhZKC9ygeGMk",
        "colab": {
          "base_uri": "https://localhost:8080/"
        },
        "outputId": "c2b7d81e-0970-4213-e69f-ab0d32eb29d2"
      },
      "execution_count": 60,
      "outputs": [
        {
          "output_type": "execute_result",
          "data": {
            "text/plain": [
              "5.782961255826576e+18"
            ]
          },
          "metadata": {},
          "execution_count": 60
        }
      ]
    },
    {
      "cell_type": "code",
      "source": [
        "li=line2sum-line1sum\n",
        "knn_score=li/line2sum\n",
        "print(knn_score)"
      ],
      "metadata": {
        "id": "vprjWXUreNTc",
        "colab": {
          "base_uri": "https://localhost:8080/"
        },
        "outputId": "27c459e3-1801-4e0c-a87a-db7fcda6b175"
      },
      "execution_count": 61,
      "outputs": [
        {
          "output_type": "stream",
          "name": "stdout",
          "text": [
            "0.5955667962696704\n"
          ]
        }
      ]
    },
    {
      "cell_type": "code",
      "source": [],
      "metadata": {
        "id": "JCpoe57fOrSL"
      },
      "execution_count": 61,
      "outputs": []
    },
    {
      "cell_type": "code",
      "source": [
        "print('R2_score of KNN = %.5f' %(knn_score))"
      ],
      "metadata": {
        "id": "ZYC0cEi3gTD5",
        "colab": {
          "base_uri": "https://localhost:8080/"
        },
        "outputId": "737cf084-7ae9-46c6-fac1-e28c479b0e04"
      },
      "execution_count": 62,
      "outputs": [
        {
          "output_type": "stream",
          "name": "stdout",
          "text": [
            "R2_score of KNN = 0.59557\n"
          ]
        }
      ]
    },
    {
      "cell_type": "markdown",
      "source": [
        "#**Extra Tree Regressor**\n"
      ],
      "metadata": {
        "id": "ezMwwM9dOiMs"
      }
    },
    {
      "cell_type": "code",
      "source": [
        "from sklearn.tree import ExtraTreeRegressor"
      ],
      "metadata": {
        "id": "568VO2MCOsij"
      },
      "execution_count": 63,
      "outputs": []
    },
    {
      "cell_type": "code",
      "source": [
        "gp = ExtraTreeRegressor()\n"
      ],
      "metadata": {
        "id": "zrLWfu72O63p"
      },
      "execution_count": 64,
      "outputs": []
    },
    {
      "cell_type": "code",
      "source": [
        "import time\n",
        "\n",
        "# store starting time\n",
        "begin4 = time.time()\n",
        "gp.fit(x_train, y_train)\n",
        "time.sleep(1)\n",
        "# store end time\n",
        "end4 = time.time()\n",
        "\n",
        "# total time taken\n",
        "print(f\"Total runtime of the program is {end4 - begin4}\")\n"
      ],
      "metadata": {
        "id": "m0yy36kKPKM0",
        "colab": {
          "base_uri": "https://localhost:8080/"
        },
        "outputId": "8284d0e9-6028-4037-a3f8-f1c1c9b8ef1a"
      },
      "execution_count": 65,
      "outputs": [
        {
          "output_type": "stream",
          "name": "stdout",
          "text": [
            "Total runtime of the program is 1.3193230628967285\n"
          ]
        }
      ]
    },
    {
      "cell_type": "code",
      "source": [
        "t4=end4-begin4\n",
        "print(t4)"
      ],
      "metadata": {
        "id": "6HqQzfRgRYz3",
        "colab": {
          "base_uri": "https://localhost:8080/"
        },
        "outputId": "ddc78d09-6e48-4ac4-9621-a3706f449dce"
      },
      "execution_count": 66,
      "outputs": [
        {
          "output_type": "stream",
          "name": "stdout",
          "text": [
            "1.3193230628967285\n"
          ]
        }
      ]
    },
    {
      "cell_type": "code",
      "source": [
        "gbr = gp.predict(x_test)"
      ],
      "metadata": {
        "id": "8YYb22rAPh6D"
      },
      "execution_count": 67,
      "outputs": []
    },
    {
      "cell_type": "code",
      "source": [
        "print(gbr)"
      ],
      "metadata": {
        "id": "upaODTilPwuo",
        "colab": {
          "base_uri": "https://localhost:8080/"
        },
        "outputId": "6ec6dc9a-7152-4f3a-e35b-b0e9e9fc0ab6"
      },
      "execution_count": 68,
      "outputs": [
        {
          "output_type": "stream",
          "name": "stdout",
          "text": [
            "[1.1043e+03 1.0000e+02 7.9600e+07 ... 5.9000e+02 1.2800e+02 3.0000e+00]\n"
          ]
        }
      ]
    },
    {
      "cell_type": "markdown",
      "source": [
        "#R2_Score for Extra Tree Regressor"
      ],
      "metadata": {
        "id": "9DG1qwXcP3TH"
      }
    },
    {
      "cell_type": "code",
      "source": [
        "%matplotlib inline\n",
        "import numpy as np\n",
        "import matplotlib.pyplot as plt\n",
        "from scipy import stats\n",
        "\n",
        "slope, intercept, r_value, p_value, std_err = stats.linregress(y_test,gbr)\n",
        "def linefitline(b):\n",
        "    return intercept + slope * b\n",
        "line1 = linefitline(y_test)\n",
        "\n",
        "#plot line\n",
        "plt.scatter(y_test,gbr)\n",
        "plt.plot(y_test,line1, c = 'g')\n",
        "plt.show()"
      ],
      "metadata": {
        "id": "0usk1D6JQB92",
        "colab": {
          "base_uri": "https://localhost:8080/",
          "height": 463
        },
        "outputId": "344d331d-106d-4ac6-81b7-346b8823ff5e"
      },
      "execution_count": 69,
      "outputs": [
        {
          "output_type": "display_data",
          "data": {
            "text/plain": [
              "<Figure size 640x480 with 1 Axes>"
            ],
            "image/png": "[encoded data removed]"
          },
          "metadata": {}
        }
      ]
    },
    {
      "cell_type": "code",
      "source": [
        "line2 = np.full(14995,[gbr.mean()])"
      ],
      "metadata": {
        "id": "sDYEb75jQHy8"
      },
      "execution_count": 70,
      "outputs": []
    },
    {
      "cell_type": "code",
      "source": [
        "def linefitline(b):\n",
        "    return intercept + slope * b\n",
        "differences_line1 = linefitline(y_test)-gbr\n",
        "line1sum = 0\n",
        "for i in differences_line1:\n",
        "    line1sum = line1sum + (i*i)\n",
        "line1sum"
      ],
      "metadata": {
        "id": "5xbpij6TQOxc",
        "colab": {
          "base_uri": "https://localhost:8080/"
        },
        "outputId": "35da1aa2-6f95-4084-c30e-33236c95d3bb"
      },
      "execution_count": 71,
      "outputs": [
        {
          "output_type": "execute_result",
          "data": {
            "text/plain": [
              "8.573243350794228e+17"
            ]
          },
          "metadata": {},
          "execution_count": 71
        }
      ]
    },
    {
      "cell_type": "code",
      "source": [
        "differences_line2 = line2 - gbr\n",
        "line2sum = 0\n",
        "for i in differences_line2:\n",
        "    line2sum = line2sum + (i*i)\n",
        "line2sum"
      ],
      "metadata": {
        "id": "Us-ELzwKQPG9",
        "colab": {
          "base_uri": "https://localhost:8080/"
        },
        "outputId": "139e9108-d291-4007-8fe6-72f056773aaa"
      },
      "execution_count": 72,
      "outputs": [
        {
          "output_type": "execute_result",
          "data": {
            "text/plain": [
              "8.999888234516574e+18"
            ]
          },
          "metadata": {},
          "execution_count": 72
        }
      ]
    },
    {
      "cell_type": "code",
      "source": [
        "li=line2sum-line1sum\n",
        "gb_score=li/line2sum\n",
        "print(gb_score)"
      ],
      "metadata": {
        "id": "QIJLj3AcQPdH",
        "colab": {
          "base_uri": "https://localhost:8080/"
        },
        "outputId": "68b16b00-4c21-4cd5-9d22-48707e438218"
      },
      "execution_count": 73,
      "outputs": [
        {
          "output_type": "stream",
          "name": "stdout",
          "text": [
            "0.9047405575781049\n"
          ]
        }
      ]
    },
    {
      "cell_type": "code",
      "source": [
        "print('R2_score of Extra Tree Regressor = %.5f' %(gb_score))"
      ],
      "metadata": {
        "id": "DeCVNk6fQVwX",
        "colab": {
          "base_uri": "https://localhost:8080/"
        },
        "outputId": "b2684511-569b-4d14-9374-5d9c93846d53"
      },
      "execution_count": 74,
      "outputs": [
        {
          "output_type": "stream",
          "name": "stdout",
          "text": [
            "R2_score of Extra Tree Regressor = 0.90474\n"
          ]
        }
      ]
    },
    {
      "cell_type": "markdown",
      "source": [
        "##**Graph showing Four algorithms**\n",
        "\n",
        "\n",
        "\n"
      ],
      "metadata": {
        "id": "y5ZCFm6P7LGF"
      }
    },
    {
      "cell_type": "code",
      "source": [
        "import seaborn as sns\n",
        "graph = pd.DataFrame({'Models':['BaggingRegressor','SVR','KNeighborsRegressor','ExtraTreeRegressor'],\n",
        "                     'R2_scores':[bg_score*100,sv_score*100,knn_score*100,gb_score*100],\n",
        "                      'Time':[t1,t2,t3,t4]})\n",
        "graph"
      ],
      "metadata": {
        "id": "JFWeZa5P1YJ3",
        "colab": {
          "base_uri": "https://localhost:8080/",
          "height": 174
        },
        "outputId": "de16a4dd-c0cd-42cd-9dbb-484ada085627"
      },
      "execution_count": 75,
      "outputs": [
        {
          "output_type": "execute_result",
          "data": {
            "text/plain": [
              "                Models  R2_scores      Time\n",
              "0     BaggingRegressor  89.998830  3.875623\n",
              "1                  SVR   1.932506  9.041023\n",
              "2  KNeighborsRegressor  59.556680  1.101672\n",
              "3   ExtraTreeRegressor  90.474056  1.319323"
            ],
            "text/html": [
              "\n",
              "  <div id=\"df-14964061-7b9f-491f-9ae9-aede9bf2dea1\" class=\"colab-df-container\">\n",
              "    <div>\n",
              "<style scoped>\n",
              "    .dataframe tbody tr th:only-of-type {\n",
              "        vertical-align: middle;\n",
              "    }\n",
              "\n",
              "    .dataframe tbody tr th {\n",
              "        vertical-align: top;\n",
              "    }\n",
              "\n",
              "    .dataframe thead th {\n",
              "        text-align: right;\n",
              "    }\n",
              "</style>\n",
              "<table border=\"1\" class=\"dataframe\">\n",
              "  <thead>\n",
              "    <tr style=\"text-align: right;\">\n",
              "      <th></th>\n",
              "      <th>Models</th>\n",
              "      <th>R2_scores</th>\n",
              "      <th>Time</th>\n",
              "    </tr>\n",
              "  </thead>\n",
              "  <tbody>\n",
              "    <tr>\n",
              "      <th>0</th>\n",
              "      <td>BaggingRegressor</td>\n",
              "      <td>89.998830</td>\n",
              "      <td>3.875623</td>\n",
              "    </tr>\n",
              "    <tr>\n",
              "      <th>1</th>\n",
              "      <td>SVR</td>\n",
              "      <td>1.932506</td>\n",
              "      <td>9.041023</td>\n",
              "    </tr>\n",
              "    <tr>\n",
              "      <th>2</th>\n",
              "      <td>KNeighborsRegressor</td>\n",
              "      <td>59.556680</td>\n",
              "      <td>1.101672</td>\n",
              "    </tr>\n",
              "    <tr>\n",
              "      <th>3</th>\n",
              "      <td>ExtraTreeRegressor</td>\n",
              "      <td>90.474056</td>\n",
              "      <td>1.319323</td>\n",
              "    </tr>\n",
              "  </tbody>\n",
              "</table>\n",
              "</div>\n",
              "    <div class=\"colab-df-buttons\">\n",
              "\n",
              "  <div class=\"colab-df-container\">\n",
              "    <button class=\"colab-df-convert\" onclick=\"convertToInteractive('df-14964061-7b9f-491f-9ae9-aede9bf2dea1')\"\n",
              "            title=\"Convert this dataframe to an interactive table.\"\n",
              "            style=\"display:none;\">\n",
              "\n",
              "  <svg xmlns=\"http://www.w3.org/2000/svg\" height=\"24px\" viewBox=\"0 -960 960 960\">\n",
              "    <path d=\"M120-120v-720h720v720H120Zm60-500h600v-160H180v160Zm220 220h160v-160H400v160Zm0 220h160v-160H400v160ZM180-400h160v-160H180v160Zm440 0h160v-160H620v160ZM180-180h160v-160H180v160Zm440 0h160v-160H620v160Z\"/>\n",
              "  </svg>\n",
              "    </button>\n",
              "\n",
              "  <style>\n",
              "    .colab-df-container {\n",
              "      display:flex;\n",
              "      gap: 12px;\n",
              "    }\n",
              "\n",
              "    .colab-df-convert {\n",
              "      background-color: #E8F0FE;\n",
              "      border: none;\n",
              "      border-radius: 50%;\n",
              "      cursor: pointer;\n",
              "      display: none;\n",
              "      fill: #1967D2;\n",
              "      height: 32px;\n",
              "      padding: 0 0 0 0;\n",
              "      width: 32px;\n",
              "    }\n",
              "\n",
              "    .colab-df-convert:hover {\n",
              "      background-color: #E2EBFA;\n",
              "      box-shadow: 0px 1px 2px rgba(60, 64, 67, 0.3), 0px 1px 3px 1px rgba(60, 64, 67, 0.15);\n",
              "      fill: #174EA6;\n",
              "    }\n",
              "\n",
              "    .colab-df-buttons div {\n",
              "      margin-bottom: 4px;\n",
              "    }\n",
              "\n",
              "    [theme=dark] .colab-df-convert {\n",
              "      background-color: #3B4455;\n",
              "      fill: #D2E3FC;\n",
              "    }\n",
              "\n",
              "    [theme=dark] .colab-df-convert:hover {\n",
              "      background-color: #434B5C;\n",
              "      box-shadow: 0px 1px 3px 1px rgba(0, 0, 0, 0.15);\n",
              "      filter: drop-shadow(0px 1px 2px rgba(0, 0, 0, 0.3));\n",
              "      fill: #FFFFFF;\n",
              "    }\n",
              "  </style>\n",
              "\n",
              "    <script>\n",
              "      const buttonEl =\n",
              "        document.querySelector('#df-14964061-7b9f-491f-9ae9-aede9bf2dea1 button.colab-df-convert');\n",
              "      buttonEl.style.display =\n",
              "        google.colab.kernel.accessAllowed ? 'block' : 'none';\n",
              "\n",
              "      async function convertToInteractive(key) {\n",
              "        const element = document.querySelector('#df-14964061-7b9f-491f-9ae9-aede9bf2dea1');\n",
              "        const dataTable =\n",
              "          await google.colab.kernel.invokeFunction('convertToInteractive',\n",
              "                                                    [key], {});\n",
              "        if (!dataTable) return;\n",
              "\n",
              "        const docLinkHtml = 'Like what you see? Visit the ' +\n",
              "          '<a target=\"_blank\" href=https://colab.research.google.com/notebooks/data_table.ipynb>data table notebook</a>'\n",
              "          + ' to learn more about interactive tables.';\n",
              "        element.innerHTML = '';\n",
              "        dataTable['output_type'] = 'display_data';\n",
              "        await google.colab.output.renderOutput(dataTable, element);\n",
              "        const docLink = document.createElement('div');\n",
              "        docLink.innerHTML = docLinkHtml;\n",
              "        element.appendChild(docLink);\n",
              "      }\n",
              "    </script>\n",
              "  </div>\n",
              "\n",
              "\n",
              "<div id=\"df-4533e2e5-7cbb-4f86-9713-9658df70c28a\">\n",
              "  <button class=\"colab-df-quickchart\" onclick=\"quickchart('df-4533e2e5-7cbb-4f86-9713-9658df70c28a')\"\n",
              "            title=\"Suggest charts\"\n",
              "            style=\"display:none;\">\n",
              "\n",
              "<svg xmlns=\"http://www.w3.org/2000/svg\" height=\"24px\"viewBox=\"0 0 24 24\"\n",
              "     width=\"24px\">\n",
              "    <g>\n",
              "        <path d=\"M19 3H5c-1.1 0-2 .9-2 2v14c0 1.1.9 2 2 2h14c1.1 0 2-.9 2-2V5c0-1.1-.9-2-2-2zM9 17H7v-7h2v7zm4 0h-2V7h2v10zm4 0h-2v-4h2v4z\"/>\n",
              "    </g>\n",
              "</svg>\n",
              "  </button>\n",
              "\n",
              "<style>\n",
              "  .colab-df-quickchart {\n",
              "      --bg-color: #E8F0FE;\n",
              "      --fill-color: #1967D2;\n",
              "      --hover-bg-color: #E2EBFA;\n",
              "      --hover-fill-color: #174EA6;\n",
              "      --disabled-fill-color: #AAA;\n",
              "      --disabled-bg-color: #DDD;\n",
              "  }\n",
              "\n",
              "  [theme=dark] .colab-df-quickchart {\n",
              "      --bg-color: #3B4455;\n",
              "      --fill-color: #D2E3FC;\n",
              "      --hover-bg-color: #434B5C;\n",
              "      --hover-fill-color: #FFFFFF;\n",
              "      --disabled-bg-color: #3B4455;\n",
              "      --disabled-fill-color: #666;\n",
              "  }\n",
              "\n",
              "  .colab-df-quickchart {\n",
              "    background-color: var(--bg-color);\n",
              "    border: none;\n",
              "    border-radius: 50%;\n",
              "    cursor: pointer;\n",
              "    display: none;\n",
              "    fill: var(--fill-color);\n",
              "    height: 32px;\n",
              "    padding: 0;\n",
              "    width: 32px;\n",
              "  }\n",
              "\n",
              "  .colab-df-quickchart:hover {\n",
              "    background-color: var(--hover-bg-color);\n",
              "    box-shadow: 0 1px 2px rgba(60, 64, 67, 0.3), 0 1px 3px 1px rgba(60, 64, 67, 0.15);\n",
              "    fill: var(--button-hover-fill-color);\n",
              "  }\n",
              "\n",
              "  .colab-df-quickchart-complete:disabled,\n",
              "  .colab-df-quickchart-complete:disabled:hover {\n",
              "    background-color: var(--disabled-bg-color);\n",
              "    fill: var(--disabled-fill-color);\n",
              "    box-shadow: none;\n",
              "  }\n",
              "\n",
              "  .colab-df-spinner {\n",
              "    border: 2px solid var(--fill-color);\n",
              "    border-color: transparent;\n",
              "    border-bottom-color: var(--fill-color);\n",
              "    animation:\n",
              "      spin 1s steps(1) infinite;\n",
              "  }\n",
              "\n",
              "  @keyframes spin {\n",
              "    0% {\n",
              "      border-color: transparent;\n",
              "      border-bottom-color: var(--fill-color);\n",
              "      border-left-color: var(--fill-color);\n",
              "    }\n",
              "    20% {\n",
              "      border-color: transparent;\n",
              "      border-left-color: var(--fill-color);\n",
              "      border-top-color: var(--fill-color);\n",
              "    }\n",
              "    30% {\n",
              "      border-color: transparent;\n",
              "      border-left-color: var(--fill-color);\n",
              "      border-top-color: var(--fill-color);\n",
              "      border-right-color: var(--fill-color);\n",
              "    }\n",
              "    40% {\n",
              "      border-color: transparent;\n",
              "      border-right-color: var(--fill-color);\n",
              "      border-top-color: var(--fill-color);\n",
              "    }\n",
              "    60% {\n",
              "      border-color: transparent;\n",
              "      border-right-color: var(--fill-color);\n",
              "    }\n",
              "    80% {\n",
              "      border-color: transparent;\n",
              "      border-right-color: var(--fill-color);\n",
              "      border-bottom-color: var(--fill-color);\n",
              "    }\n",
              "    90% {\n",
              "      border-color: transparent;\n",
              "      border-bottom-color: var(--fill-color);\n",
              "    }\n",
              "  }\n",
              "</style>\n",
              "\n",
              "  <script>\n",
              "    async function quickchart(key) {\n",
              "      const quickchartButtonEl =\n",
              "        document.querySelector('#' + key + ' button');\n",
              "      quickchartButtonEl.disabled = true;  // To prevent multiple clicks.\n",
              "      quickchartButtonEl.classList.add('colab-df-spinner');\n",
              "      try {\n",
              "        const charts = await google.colab.kernel.invokeFunction(\n",
              "            'suggestCharts', [key], {});\n",
              "      } catch (error) {\n",
              "        console.error('Error during call to suggestCharts:', error);\n",
              "      }\n",
              "      quickchartButtonEl.classList.remove('colab-df-spinner');\n",
              "      quickchartButtonEl.classList.add('colab-df-quickchart-complete');\n",
              "    }\n",
              "    (() => {\n",
              "      let quickchartButtonEl =\n",
              "        document.querySelector('#df-4533e2e5-7cbb-4f86-9713-9658df70c28a button');\n",
              "      quickchartButtonEl.style.display =\n",
              "        google.colab.kernel.accessAllowed ? 'block' : 'none';\n",
              "    })();\n",
              "  </script>\n",
              "</div>\n",
              "    </div>\n",
              "  </div>\n"
            ]
          },
          "metadata": {},
          "execution_count": 75
        }
      ]
    },
    {
      "cell_type": "code",
      "source": [
        "import matplotlib .pyplot as plt\n",
        "plt.figure(figsize = (10,6))\n",
        "sns.barplot(y = graph.R2_scores,x = graph.Models)\n",
        "plt.title('R2_score',fontsize=20)\n",
        "plt.xticks(rotation = 'vertical')\n",
        "plt.show()"
      ],
      "metadata": {
        "id": "z-1JXkAG1mSY",
        "colab": {
          "base_uri": "https://localhost:8080/",
          "height": 587
        },
        "outputId": "1e131a4d-fcac-4dbd-cd44-3f1520774961"
      },
      "execution_count": 76,
      "outputs": [
        {
          "output_type": "display_data",
          "data": {
            "text/plain": [
              "<Figure size 1000x600 with 1 Axes>"
            ],
            "image/png": "[encoded data removed]"
          },
          "metadata": {}
        }
      ]
    },
    {
      "cell_type": "code",
      "source": [
        "import matplotlib .pyplot as plt\n",
        "plt.figure(figsize = (10,6))\n",
        "sns.barplot(y = graph.Time,x = graph.Models)\n",
        "plt.title('Time',fontsize=20)\n",
        "plt.xticks(rotation = 'vertical')\n",
        "plt.show()"
      ],
      "metadata": {
        "id": "0DWIu9zYBW5I",
        "colab": {
          "base_uri": "https://localhost:8080/",
          "height": 594
        },
        "outputId": "9a4291b9-5425-4f88-eb85-84a69bdc7e00"
      },
      "execution_count": 77,
      "outputs": [
        {
          "output_type": "display_data",
          "data": {
            "text/plain": [
              "<Figure size 1000x600 with 1 Axes>"
            ],
            "image/png": "[encoded data removed]"
          },
          "metadata": {}
        }
      ]
    },
    {
      "cell_type": "markdown",
      "source": [
        "#**Enter input to predict crop yield**"
      ],
      "metadata": {
        "id": "jtE-czTJ7EI7"
      }
    },
    {
      "cell_type": "markdown",
      "source": [
        "#**Bagging Regressor**\n"
      ],
      "metadata": {
        "id": "PiilnF87PbYv"
      }
    },
    {
      "cell_type": "code",
      "source": [
        "State_name=1 #@param {type:\"raw\"}\n",
        "year=2004 #@param {type:\"raw\"}\n",
        "season=2 #@param {type:\"raw\"}\n",
        "crop=83 #@param {type:\"raw\"}\n",
        "area=30 #@param {type:\"raw\"}\n",
        "rainfall=2545 #@param {type:\"raw\"}\n",
        "\n",
        "State = State_name\n",
        "\n",
        "Year = year\n",
        "Season = season\n",
        "Crop = crop\n",
        "\n",
        "Area = area\n",
        "Rainfall=rainfall\n",
        "\n",
        "out_1 = bg.predict([[float(State),\n",
        "\n",
        "       float(Year),\n",
        "       float(Season),\n",
        "       float(Crop),\n",
        "       float(Area),\n",
        "       float(Rainfall)]])\n",
        "print(out_1)"
      ],
      "metadata": {
        "id": "0HQViG2US588",
        "colab": {
          "base_uri": "https://localhost:8080/"
        },
        "outputId": "902ef2f7-dce2-48d6-8d0f-e38b45b05348"
      },
      "execution_count": 85,
      "outputs": [
        {
          "output_type": "stream",
          "name": "stdout",
          "text": [
            "[38.27]\n"
          ]
        }
      ]
    },
    {
      "cell_type": "markdown",
      "source": [
        "#**Support Vector Regressor**"
      ],
      "metadata": {
        "id": "ex4ewB2vPiIC"
      }
    },
    {
      "cell_type": "code",
      "source": [
        "State_name=0 #@param {type:\"raw\"}\n",
        "year=2001 #@param {type:\"raw\"}\n",
        "season=1 #@param {type:\"raw\"}\n",
        "crop=0 #@param {type:\"raw\"}\n",
        "area=1254 #@param {type:\"raw\"}\n",
        "rainfall=3080.9 #@param {type:\"raw\"}\n",
        "\n",
        "State = State_name\n",
        "\n",
        "Year = year\n",
        "Season = season\n",
        "Crop = crop\n",
        "\n",
        "Area = area\n",
        "Rainfall=rainfall\n",
        "\n",
        "out_1 = sv.predict([[float(State),\n",
        "\n",
        "       float(Year),\n",
        "       float(Season),\n",
        "       float(Crop),\n",
        "       float(Area),\n",
        "       float(Rainfall)]])\n",
        "print(out_1)"
      ],
      "metadata": {
        "id": "SWdgstRBOGGU",
        "colab": {
          "base_uri": "https://localhost:8080/"
        },
        "outputId": "2c8d2e69-21c2-49c6-eeef-3e0d4d7e7370"
      },
      "execution_count": 79,
      "outputs": [
        {
          "output_type": "stream",
          "name": "stdout",
          "text": [
            "[540.28437008]\n"
          ]
        }
      ]
    },
    {
      "cell_type": "markdown",
      "source": [
        "#**KNN**"
      ],
      "metadata": {
        "id": "-xvzoPGiPnln"
      }
    },
    {
      "cell_type": "code",
      "source": [
        "State_name=0 #@param {type:\"raw\"}\n",
        "year=2000 #@param {type:\"raw\"}\n",
        "season=1 #@param {type:\"raw\"}\n",
        "crop=63 #@param {type:\"raw\"}\n",
        "area=9718 #@param {type:\"raw\"}\n",
        "rainfall=3080.9 #@param {type:\"raw\"}\n",
        "\n",
        "State = State_name\n",
        "\n",
        "Year = year\n",
        "Season = season\n",
        "Crop = crop\n",
        "\n",
        "Area = area\n",
        "Rainfall=rainfall\n",
        "\n",
        "out_1 =knn.predict([[float(State),\n",
        "\n",
        "       float(Year),\n",
        "       float(Season),\n",
        "       float(Crop),\n",
        "       float(Area),\n",
        "       float(Rainfall)]])\n",
        "print(out_1)"
      ],
      "metadata": {
        "id": "AwASJPbROI73",
        "colab": {
          "base_uri": "https://localhost:8080/"
        },
        "outputId": "285d56b3-8077-4b4e-99f9-77ce80536a91"
      },
      "execution_count": 80,
      "outputs": [
        {
          "output_type": "stream",
          "name": "stdout",
          "text": [
            "[15197.418]\n"
          ]
        }
      ]
    },
    {
      "cell_type": "markdown",
      "source": [
        "#**Extra Tree Regressor**"
      ],
      "metadata": {
        "id": "x69P2c-iR_4g"
      }
    },
    {
      "cell_type": "code",
      "source": [
        "State_name=1 #@param {type:\"raw\"}\n",
        "year=2004 #@param {type:\"raw\"}\n",
        "season=2 #@param {type:\"raw\"}\n",
        "crop=83 #@param {type:\"raw\"}\n",
        "area=30 #@param {type:\"raw\"}\n",
        "rainfall=2545.7 #@param {type:\"raw\"}\n",
        "\n",
        "State = State_name\n",
        "\n",
        "Year = year\n",
        "Season = season\n",
        "Crop = crop\n",
        "\n",
        "Area = area\n",
        "Rainfall=rainfall\n",
        "\n",
        "out_1 =gp.predict([[float(State),\n",
        "\n",
        "       float(Year),\n",
        "       float(Season),\n",
        "       float(Crop),\n",
        "       float(Area),\n",
        "       float(Rainfall)]])\n",
        "print(out_1)"
      ],
      "metadata": {
        "id": "FHT2f6WcSFOH",
        "colab": {
          "base_uri": "https://localhost:8080/"
        },
        "outputId": "3c904825-ab87-479e-a048-2a15793db42f"
      },
      "execution_count": 86,
      "outputs": [
        {
          "output_type": "stream",
          "name": "stdout",
          "text": [
            "[28.]\n"
          ]
        }
      ]
    }
  ],
  "metadata": {
    "colab": {
      "provenance": []
    },
    "kernelspec": {
      "display_name": "Python 3",
      "name": "python3"
    },
    "language_info": {
      "name": "python"
    }
  },
  "nbformat": 4,
  "nbformat_minor": 0
}